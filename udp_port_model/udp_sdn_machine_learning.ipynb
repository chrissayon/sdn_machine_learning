{
 "cells": [
  {
   "cell_type": "markdown",
   "metadata": {},
   "source": [
    "Import Libraries"
   ]
  },
  {
   "cell_type": "code",
   "execution_count": 1,
   "metadata": {},
   "outputs": [],
   "source": [
    "import csv\n",
    "import numpy as np\n",
    "import tensorflow as tf\n",
    "import datetime\n",
    "import os\n",
    "from tensorflow.keras import backend as K"
   ]
  },
  {
   "cell_type": "raw",
   "metadata": {},
   "source": [
    "Load data"
   ]
  },
  {
   "cell_type": "code",
   "execution_count": 2,
   "metadata": {},
   "outputs": [],
   "source": [
    "attack_set_1_raw = np.genfromtxt('zodiac_attacked.csv', \n",
    "                             delimiter=',',\n",
    "                             skip_header=2)\n",
    "\n",
    "no_attack_set_1_raw = np.genfromtxt('zodiac_not_attacked.csv', \n",
    "                             delimiter=',',\n",
    "                             skip_header=2)"
   ]
  },
  {
   "cell_type": "raw",
   "metadata": {},
   "source": [
    "Clean up data (Remove flow count from data)"
   ]
  },
  {
   "cell_type": "code",
   "execution_count": 3,
   "metadata": {},
   "outputs": [],
   "source": [
    "attack_set_1 = np.take(attack_set_1_raw, [1,2,3,4,15], axis=1)\n",
    "no_attack_set_1 = np.take(no_attack_set_1_raw, [1,2,3,4,15], axis=1)\n",
    "training_set = np.concatenate((attack_set_1, no_attack_set_1), axis=0)"
   ]
  },
  {
   "cell_type": "code",
   "execution_count": 4,
   "metadata": {},
   "outputs": [
    {
     "data": {
      "text/plain": [
       "array([[8.14870000e+04, 0.00000000e+00, 5.71780000e+04, 7.68000000e+02,\n",
       "        1.00102465e+01],\n",
       "       [8.14740000e+04, 1.00000000e+00, 1.05392000e+05, 2.05100000e+03,\n",
       "        1.00103073e+01],\n",
       "       [8.17790000e+04, 1.00000000e+00, 9.68790000e+04, 1.85600000e+03,\n",
       "        1.00102484e+01],\n",
       "       ...,\n",
       "       [3.41930000e+04, 1.00000000e+00, 1.69120000e+04, 0.00000000e+00,\n",
       "        1.00102763e+01],\n",
       "       [3.41070000e+04, 0.00000000e+00, 3.23940000e+04, 6.40000000e+01,\n",
       "        1.00102427e+01],\n",
       "       [3.40920000e+04, 0.00000000e+00, 2.93420000e+04, 0.00000000e+00,\n",
       "        1.00102537e+01]])"
      ]
     },
     "execution_count": 4,
     "metadata": {},
     "output_type": "execute_result"
    }
   ],
   "source": [
    "attack_set_1"
   ]
  },
  {
   "cell_type": "raw",
   "metadata": {},
   "source": [
    "Create output data"
   ]
  },
  {
   "cell_type": "code",
   "execution_count": 5,
   "metadata": {},
   "outputs": [],
   "source": [
    "zeroes_set = np.zeros((len(no_attack_set_1),1))\n",
    "ones_set = np.ones((len(attack_set_1),1))\n",
    "target_set = np.concatenate((ones_set, zeroes_set), axis=0)"
   ]
  },
  {
   "cell_type": "raw",
   "metadata": {},
   "source": [
    "Create type of model"
   ]
  },
  {
   "cell_type": "code",
   "execution_count": 7,
   "metadata": {},
   "outputs": [],
   "source": [
    "# Default Model\n",
    "tf.keras.backend.clear_session()\n",
    "\n",
    "input_size = 5\n",
    "output_size = 1\n",
    "\n",
    "model = tf.keras.Sequential([\n",
    "    tf.keras.layers.Dense(\n",
    "        5, \n",
    "        activation='relu', \n",
    "        input_shape=(input_size,),\n",
    "        kernel_initializer='glorot_normal',\n",
    "    ),\n",
    "#     tf.keras.layers.Dense(\n",
    "#         5, \n",
    "#         activation='relu',\n",
    "#     ),\n",
    "    tf.keras.layers.Dense(1, activation='sigmoid'),\n",
    "])\n",
    "\n",
    "model.compile(optimizer=tf.keras.optimizers.Adam(), \n",
    "                loss='binary_crossentropy', \n",
    "                metrics=['accuracy'])"
   ]
  },
  {
   "cell_type": "raw",
   "metadata": {},
   "source": [
    "Callbacks for model customization"
   ]
  },
  {
   "cell_type": "code",
   "execution_count": 8,
   "metadata": {},
   "outputs": [],
   "source": [
    "modelStartedTime = datetime.datetime.now().strftime(\"%Y_%m_%dt%H_%M_%S\")\n",
    "\n",
    "log_dir = os.path.join(\n",
    "    \"logs\",\n",
    "    \"adam_optimizer\",\n",
    "    \"loss_binary_crossentropy\"\n",
    "    \"one_hidden_layer\",\n",
    "#     \"two_hidden_layers\",\n",
    "    \"validation_split_0D1\",\n",
    "    modelStartedTime,\n",
    ")\n",
    "\n",
    "# log_dir = os.path.join(\n",
    "#     \"logs\",\n",
    "#     \"test\",\n",
    "#     modelStartedTime,\n",
    "# )\n",
    "\n",
    "callbacks = [\n",
    "    # tf.keras.callbacks.EarlyStopping(patience=50, monitor='val_loss'),\n",
    "    tf.keras.callbacks.TensorBoard(\n",
    "        log_dir=log_dir,\n",
    "        \n",
    "        #update_freq='epoch'        \n",
    "    )\n",
    "]"
   ]
  },
  {
   "cell_type": "raw",
   "metadata": {},
   "source": [
    "Train Model"
   ]
  },
  {
   "cell_type": "code",
   "execution_count": 9,
   "metadata": {
    "scrolled": false
   },
   "outputs": [
    {
     "name": "stdout",
     "output_type": "stream",
     "text": [
      "Train on 1355 samples, validate on 72 samples\n",
      "Epoch 1/60\n",
      "1355/1355 - 1s - loss: 14169.8643 - accuracy: 0.3852 - val_loss: 0.0032 - val_accuracy: 1.0000\n",
      "Epoch 2/60\n",
      "1355/1355 - 0s - loss: 9593.1342 - accuracy: 0.3852 - val_loss: 0.0050 - val_accuracy: 1.0000\n",
      "Epoch 3/60\n",
      "1355/1355 - 0s - loss: 6659.7568 - accuracy: 0.3852 - val_loss: 0.0056 - val_accuracy: 1.0000\n",
      "Epoch 4/60\n",
      "1355/1355 - 0s - loss: 4676.9344 - accuracy: 0.3852 - val_loss: 0.0052 - val_accuracy: 1.0000\n",
      "Epoch 5/60\n",
      "1355/1355 - 0s - loss: 3255.1517 - accuracy: 0.3852 - val_loss: 0.0053 - val_accuracy: 1.0000\n",
      "Epoch 6/60\n",
      "1355/1355 - 0s - loss: 2133.9386 - accuracy: 0.3852 - val_loss: 0.0048 - val_accuracy: 1.0000\n",
      "Epoch 7/60\n",
      "1355/1355 - 0s - loss: 1296.5185 - accuracy: 0.3852 - val_loss: 0.0040 - val_accuracy: 1.0000\n",
      "Epoch 8/60\n",
      "1355/1355 - 0s - loss: 673.0507 - accuracy: 0.3852 - val_loss: 0.0034 - val_accuracy: 1.0000\n",
      "Epoch 9/60\n",
      "1355/1355 - 0s - loss: 208.2242 - accuracy: 0.6583 - val_loss: 0.0028 - val_accuracy: 1.0000\n",
      "Epoch 10/60\n",
      "1355/1355 - 0s - loss: 105.3848 - accuracy: 0.9439 - val_loss: 0.0021 - val_accuracy: 1.0000\n",
      "Epoch 11/60\n",
      "1355/1355 - 0s - loss: 86.7744 - accuracy: 0.9668 - val_loss: 0.0017 - val_accuracy: 1.0000\n",
      "Epoch 12/60\n",
      "1355/1355 - 0s - loss: 74.5194 - accuracy: 0.9668 - val_loss: 0.0013 - val_accuracy: 1.0000\n",
      "Epoch 13/60\n",
      "1355/1355 - 0s - loss: 63.0073 - accuracy: 0.9646 - val_loss: 0.0011 - val_accuracy: 1.0000\n",
      "Epoch 14/60\n",
      "1355/1355 - 0s - loss: 52.0835 - accuracy: 0.9638 - val_loss: 8.9669e-04 - val_accuracy: 1.0000\n",
      "Epoch 15/60\n",
      "1355/1355 - 0s - loss: 40.2731 - accuracy: 0.9638 - val_loss: 7.6246e-04 - val_accuracy: 1.0000\n",
      "Epoch 16/60\n",
      "1355/1355 - 0s - loss: 28.7790 - accuracy: 0.9653 - val_loss: 6.5702e-04 - val_accuracy: 1.0000\n",
      "Epoch 17/60\n",
      "1355/1355 - 0s - loss: 18.8437 - accuracy: 0.9690 - val_loss: 5.7712e-04 - val_accuracy: 1.0000\n",
      "Epoch 18/60\n",
      "1355/1355 - 0s - loss: 12.0332 - accuracy: 0.9749 - val_loss: 5.0956e-04 - val_accuracy: 1.0000\n",
      "Epoch 19/60\n",
      "1355/1355 - 0s - loss: 7.7317 - accuracy: 0.9793 - val_loss: 4.4519e-04 - val_accuracy: 1.0000\n",
      "Epoch 20/60\n",
      "1355/1355 - 0s - loss: 5.5961 - accuracy: 0.9845 - val_loss: 4.0055e-04 - val_accuracy: 1.0000\n",
      "Epoch 21/60\n",
      "1355/1355 - 0s - loss: 4.0809 - accuracy: 0.9830 - val_loss: 3.6156e-04 - val_accuracy: 1.0000\n",
      "Epoch 22/60\n",
      "1355/1355 - 0s - loss: 2.7509 - accuracy: 0.9867 - val_loss: 3.2500e-04 - val_accuracy: 1.0000\n",
      "Epoch 23/60\n",
      "1355/1355 - 0s - loss: 2.0899 - accuracy: 0.9926 - val_loss: 2.9240e-04 - val_accuracy: 1.0000\n",
      "Epoch 24/60\n",
      "1355/1355 - 0s - loss: 2.0485 - accuracy: 0.9934 - val_loss: 2.7016e-04 - val_accuracy: 1.0000\n",
      "Epoch 25/60\n",
      "1355/1355 - 0s - loss: 2.0304 - accuracy: 0.9970 - val_loss: 2.4718e-04 - val_accuracy: 1.0000\n",
      "Epoch 26/60\n",
      "1355/1355 - 0s - loss: 1.9926 - accuracy: 0.9956 - val_loss: 2.3002e-04 - val_accuracy: 1.0000\n",
      "Epoch 27/60\n",
      "1355/1355 - 0s - loss: 1.9745 - accuracy: 0.9963 - val_loss: 2.1208e-04 - val_accuracy: 1.0000\n",
      "Epoch 28/60\n",
      "1355/1355 - 0s - loss: 1.9446 - accuracy: 0.9926 - val_loss: 1.9562e-04 - val_accuracy: 1.0000\n",
      "Epoch 29/60\n",
      "1355/1355 - 0s - loss: 1.9078 - accuracy: 0.9963 - val_loss: 1.8253e-04 - val_accuracy: 1.0000\n",
      "Epoch 30/60\n",
      "1355/1355 - 0s - loss: 1.8877 - accuracy: 0.9941 - val_loss: 1.7032e-04 - val_accuracy: 1.0000\n",
      "Epoch 31/60\n",
      "1355/1355 - 0s - loss: 1.8582 - accuracy: 0.9934 - val_loss: 1.5816e-04 - val_accuracy: 1.0000\n",
      "Epoch 32/60\n",
      "1355/1355 - 0s - loss: 1.8261 - accuracy: 0.9970 - val_loss: 1.4810e-04 - val_accuracy: 1.0000\n",
      "Epoch 33/60\n",
      "1355/1355 - 0s - loss: 1.8068 - accuracy: 0.9941 - val_loss: 1.3871e-04 - val_accuracy: 1.0000\n",
      "Epoch 34/60\n",
      "1355/1355 - 0s - loss: 1.7580 - accuracy: 0.9963 - val_loss: 1.2967e-04 - val_accuracy: 1.0000\n",
      "Epoch 35/60\n",
      "1355/1355 - 0s - loss: 1.7602 - accuracy: 0.9919 - val_loss: 1.2103e-04 - val_accuracy: 1.0000\n",
      "Epoch 36/60\n",
      "1355/1355 - 0s - loss: 1.6873 - accuracy: 0.9963 - val_loss: 1.1386e-04 - val_accuracy: 1.0000\n",
      "Epoch 37/60\n",
      "1355/1355 - 0s - loss: 1.6714 - accuracy: 0.9926 - val_loss: 1.0651e-04 - val_accuracy: 1.0000\n",
      "Epoch 38/60\n",
      "1355/1355 - 0s - loss: 1.6237 - accuracy: 0.9934 - val_loss: 1.0037e-04 - val_accuracy: 1.0000\n",
      "Epoch 39/60\n",
      "1355/1355 - 0s - loss: 1.5972 - accuracy: 0.9970 - val_loss: 9.5333e-05 - val_accuracy: 1.0000\n",
      "Epoch 40/60\n",
      "1355/1355 - 0s - loss: 1.5521 - accuracy: 0.9948 - val_loss: 9.0504e-05 - val_accuracy: 1.0000\n",
      "Epoch 41/60\n",
      "1355/1355 - 0s - loss: 1.5041 - accuracy: 0.9963 - val_loss: 8.5301e-05 - val_accuracy: 1.0000\n",
      "Epoch 42/60\n",
      "1355/1355 - 0s - loss: 1.4774 - accuracy: 0.9956 - val_loss: 8.1146e-05 - val_accuracy: 1.0000\n",
      "Epoch 43/60\n",
      "1355/1355 - 0s - loss: 1.4216 - accuracy: 0.9941 - val_loss: 7.6980e-05 - val_accuracy: 1.0000\n",
      "Epoch 44/60\n",
      "1355/1355 - 0s - loss: 1.4142 - accuracy: 0.9970 - val_loss: 7.3346e-05 - val_accuracy: 1.0000\n",
      "Epoch 45/60\n",
      "1355/1355 - 0s - loss: 1.4400 - accuracy: 0.9904 - val_loss: 6.8925e-05 - val_accuracy: 1.0000\n",
      "Epoch 46/60\n",
      "1355/1355 - 0s - loss: 1.3708 - accuracy: 0.9956 - val_loss: 6.5829e-05 - val_accuracy: 1.0000\n",
      "Epoch 47/60\n",
      "1355/1355 - 0s - loss: 1.3623 - accuracy: 0.9926 - val_loss: 6.2003e-05 - val_accuracy: 1.0000\n",
      "Epoch 48/60\n",
      "1355/1355 - 0s - loss: 1.3507 - accuracy: 0.9970 - val_loss: 5.9522e-05 - val_accuracy: 1.0000\n",
      "Epoch 49/60\n",
      "1355/1355 - 0s - loss: 1.3352 - accuracy: 0.9941 - val_loss: 5.6970e-05 - val_accuracy: 1.0000\n",
      "Epoch 50/60\n",
      "1355/1355 - 0s - loss: 1.3038 - accuracy: 0.9941 - val_loss: 5.3832e-05 - val_accuracy: 1.0000\n",
      "Epoch 51/60\n",
      "1355/1355 - 0s - loss: 1.2699 - accuracy: 0.9963 - val_loss: 5.1419e-05 - val_accuracy: 1.0000\n",
      "Epoch 52/60\n",
      "1355/1355 - 0s - loss: 1.2496 - accuracy: 0.9956 - val_loss: 4.9125e-05 - val_accuracy: 1.0000\n",
      "Epoch 53/60\n",
      "1355/1355 - 0s - loss: 1.2311 - accuracy: 0.9919 - val_loss: 4.6523e-05 - val_accuracy: 1.0000\n",
      "Epoch 54/60\n",
      "1355/1355 - 0s - loss: 1.1865 - accuracy: 0.9934 - val_loss: 4.4349e-05 - val_accuracy: 1.0000\n",
      "Epoch 55/60\n",
      "1355/1355 - 0s - loss: 1.1512 - accuracy: 0.9963 - val_loss: 4.2530e-05 - val_accuracy: 1.0000\n",
      "Epoch 56/60\n",
      "1355/1355 - 0s - loss: 1.1244 - accuracy: 0.9941 - val_loss: 4.0796e-05 - val_accuracy: 1.0000\n",
      "Epoch 57/60\n",
      "1355/1355 - 0s - loss: 1.0820 - accuracy: 0.9926 - val_loss: 3.8480e-05 - val_accuracy: 1.0000\n",
      "Epoch 58/60\n",
      "1355/1355 - 0s - loss: 1.0910 - accuracy: 0.9970 - val_loss: 3.7056e-05 - val_accuracy: 1.0000\n",
      "Epoch 59/60\n",
      "1355/1355 - 0s - loss: 1.0623 - accuracy: 0.9911 - val_loss: 3.4975e-05 - val_accuracy: 1.0000\n",
      "Epoch 60/60\n",
      "1355/1355 - 0s - loss: 1.0296 - accuracy: 0.9956 - val_loss: 3.3422e-05 - val_accuracy: 1.0000\n"
     ]
    },
    {
     "data": {
      "text/plain": [
       "<tensorflow.python.keras.callbacks.History at 0x7f2228f94160>"
      ]
     },
     "execution_count": 9,
     "metadata": {},
     "output_type": "execute_result"
    }
   ],
   "source": [
    "model.fit(\n",
    "    training_set, \n",
    "    target_set, \n",
    "    initial_epoch=0,\n",
    "    # initial_epoch=init_epoch-epoch_count,\n",
    "    epochs=60,\n",
    "    validation_split=0.05, \n",
    "    # batch_size=20, \n",
    "    verbose=2, \n",
    "    shuffle=True,\n",
    "    callbacks=callbacks, \n",
    ")"
   ]
  },
  {
   "cell_type": "code",
   "execution_count": 10,
   "metadata": {},
   "outputs": [],
   "source": [
    "model.save('udp_port_model.h5')"
   ]
  },
  {
   "cell_type": "raw",
   "metadata": {},
   "source": [
    "Get Weights"
   ]
  },
  {
   "cell_type": "code",
   "execution_count": 9,
   "metadata": {},
   "outputs": [
    {
     "data": {
      "text/plain": [
       "[array([[ 0.12517838, -0.03866845, -0.20502004, -0.75644237, -0.14499573],\n",
       "        [-0.19907333, -0.6377549 ,  0.41524097, -0.4151665 , -0.3867644 ],\n",
       "        [ 0.51228166, -0.16080315,  0.34544232,  0.06832434, -0.27374703],\n",
       "        [ 0.33012253, -0.7053988 ,  0.21261647, -0.65571713,  0.9632727 ],\n",
       "        [ 0.15257913,  0.05354644,  0.7596836 , -0.13905106, -0.12730189]],\n",
       "       dtype=float32),\n",
       " array([-0.22902527,  0.        ,  0.3487387 ,  0.        ,  0.37249017],\n",
       "       dtype=float32)]"
      ]
     },
     "execution_count": 9,
     "metadata": {},
     "output_type": "execute_result"
    }
   ],
   "source": [
    "model.layers[0].get_weights()"
   ]
  },
  {
   "cell_type": "raw",
   "metadata": {},
   "source": [
    "Get output of model"
   ]
  },
  {
   "cell_type": "raw",
   "metadata": {},
   "source": [
    "Save Machine Learning Model"
   ]
  },
  {
   "cell_type": "code",
   "execution_count": 19,
   "metadata": {},
   "outputs": [
    {
     "name": "stdout",
     "output_type": "stream",
     "text": [
      "WARNING:tensorflow:From <ipython-input-19-4b237b8aad4b>:1: export_saved_model (from tensorflow.python.keras.saving.saved_model_experimental) is deprecated and will be removed in a future version.\n",
      "Instructions for updating:\n",
      "Please use `model.save(..., save_format=\"tf\")` or `tf.keras.models.save_model(..., save_format=\"tf\")`.\n",
      "WARNING:tensorflow:From /home/mint/Desktop/sdn_backend/lib/python3.6/site-packages/tensorflow_core/python/ops/resource_variable_ops.py:1630: calling BaseResourceVariable.__init__ (from tensorflow.python.ops.resource_variable_ops) with constraint is deprecated and will be removed in a future version.\n",
      "Instructions for updating:\n",
      "If using Keras pass *_constraint arguments to layers.\n",
      "WARNING:tensorflow:From /home/mint/Desktop/sdn_backend/lib/python3.6/site-packages/tensorflow_core/python/saved_model/signature_def_utils_impl.py:253: build_tensor_info (from tensorflow.python.saved_model.utils_impl) is deprecated and will be removed in a future version.\n",
      "Instructions for updating:\n",
      "This function will only be available through the v1 compatibility library as tf.compat.v1.saved_model.utils.build_tensor_info or tf.compat.v1.saved_model.build_tensor_info.\n",
      "INFO:tensorflow:Signatures INCLUDED in export for Classify: None\n",
      "INFO:tensorflow:Signatures INCLUDED in export for Regress: None\n",
      "INFO:tensorflow:Signatures INCLUDED in export for Predict: None\n",
      "INFO:tensorflow:Signatures INCLUDED in export for Train: ['train']\n",
      "INFO:tensorflow:Signatures INCLUDED in export for Eval: None\n",
      "WARNING:tensorflow:Export includes no default signature!\n",
      "INFO:tensorflow:No assets to save.\n",
      "INFO:tensorflow:No assets to write.\n",
      "INFO:tensorflow:Signatures INCLUDED in export for Classify: None\n",
      "INFO:tensorflow:Signatures INCLUDED in export for Regress: None\n",
      "INFO:tensorflow:Signatures INCLUDED in export for Predict: None\n",
      "INFO:tensorflow:Signatures INCLUDED in export for Train: None\n",
      "INFO:tensorflow:Signatures INCLUDED in export for Eval: ['eval']\n",
      "WARNING:tensorflow:Export includes no default signature!\n",
      "INFO:tensorflow:No assets to save.\n",
      "INFO:tensorflow:No assets to write.\n",
      "INFO:tensorflow:Signatures INCLUDED in export for Classify: None\n",
      "INFO:tensorflow:Signatures INCLUDED in export for Regress: None\n",
      "INFO:tensorflow:Signatures INCLUDED in export for Predict: ['serving_default']\n",
      "INFO:tensorflow:Signatures INCLUDED in export for Train: None\n",
      "INFO:tensorflow:Signatures INCLUDED in export for Eval: None\n",
      "INFO:tensorflow:No assets to save.\n",
      "INFO:tensorflow:No assets to write.\n",
      "INFO:tensorflow:SavedModel written to: best_model_v22019_10_20t23_32_53.h5/saved_model.pb\n"
     ]
    }
   ],
   "source": [
    "tf.keras.experimental.export_saved_model(model, 'best_model_v2' + modelStartedTime + '.h5')"
   ]
  },
  {
   "cell_type": "code",
   "execution_count": 26,
   "metadata": {},
   "outputs": [],
   "source": [
    "model.save('port_model.h5')"
   ]
  },
  {
   "cell_type": "code",
   "execution_count": 35,
   "metadata": {},
   "outputs": [],
   "source": [
    "loaded_model = tf.keras.models.load_model('best_model_2019_10_20t21_32_39.h5')"
   ]
  },
  {
   "cell_type": "code",
   "execution_count": 36,
   "metadata": {},
   "outputs": [
    {
     "name": "stdout",
     "output_type": "stream",
     "text": [
      "Model: \"sequential\"\n",
      "_________________________________________________________________\n",
      "Layer (type)                 Output Shape              Param #   \n",
      "=================================================================\n",
      "dense (Dense)                (None, 5)                 30        \n",
      "_________________________________________________________________\n",
      "dense_1 (Dense)              (None, 5)                 30        \n",
      "_________________________________________________________________\n",
      "dense_2 (Dense)              (None, 1)                 6         \n",
      "=================================================================\n",
      "Total params: 66\n",
      "Trainable params: 66\n",
      "Non-trainable params: 0\n",
      "_________________________________________________________________\n"
     ]
    }
   ],
   "source": [
    "loaded_model.summary()"
   ]
  },
  {
   "cell_type": "code",
   "execution_count": null,
   "metadata": {},
   "outputs": [],
   "source": []
  }
 ],
 "metadata": {
  "kernelspec": {
   "display_name": "Python 3",
   "language": "python",
   "name": "python3"
  },
  "language_info": {
   "codemirror_mode": {
    "name": "ipython",
    "version": 3
   },
   "file_extension": ".py",
   "mimetype": "text/x-python",
   "name": "python",
   "nbconvert_exporter": "python",
   "pygments_lexer": "ipython3",
   "version": "3.6.8"
  }
 },
 "nbformat": 4,
 "nbformat_minor": 2
}
