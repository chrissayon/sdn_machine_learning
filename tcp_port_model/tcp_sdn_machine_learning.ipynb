{
 "cells": [
  {
   "cell_type": "markdown",
   "metadata": {},
   "source": [
    "Import Libraries"
   ]
  },
  {
   "cell_type": "code",
   "execution_count": 1,
   "metadata": {},
   "outputs": [],
   "source": [
    "import csv\n",
    "import numpy as np\n",
    "import tensorflow as tf\n",
    "import datetime\n",
    "import os\n",
    "from tensorflow.keras import backend as K"
   ]
  },
  {
   "cell_type": "raw",
   "metadata": {},
   "source": [
    "Load data"
   ]
  },
  {
   "cell_type": "code",
   "execution_count": 2,
   "metadata": {},
   "outputs": [],
   "source": [
    "attack_set_1_raw = np.genfromtxt('zodiac_attacked.csv', \n",
    "                             delimiter=',',\n",
    "                             skip_header=2)\n",
    "\n",
    "no_attack_set_1_raw = np.genfromtxt('zodiac_not_attacked.csv', \n",
    "                             delimiter=',',\n",
    "                             skip_header=2)"
   ]
  },
  {
   "cell_type": "raw",
   "metadata": {},
   "source": [
    "Clean up data (Remove flow count from data)"
   ]
  },
  {
   "cell_type": "code",
   "execution_count": 3,
   "metadata": {},
   "outputs": [],
   "source": [
    "attack_set_1 = np.take(attack_set_1_raw, [1,2,3,4,15], axis=1)\n",
    "no_attack_set_1 = np.take(no_attack_set_1_raw, [1,2,3,4,15], axis=1)\n",
    "training_set = np.concatenate((attack_set_1, no_attack_set_1), axis=0)"
   ]
  },
  {
   "cell_type": "code",
   "execution_count": 4,
   "metadata": {},
   "outputs": [
    {
     "data": {
      "text/plain": [
       "array([[7.71120000e+04, 4.00180000e+04, 1.09870000e+05, 8.42940000e+04,\n",
       "        1.00102348e+01],\n",
       "       [7.72630000e+04, 4.03450000e+04, 7.71590000e+04, 4.59920000e+04,\n",
       "        1.00102575e+01],\n",
       "       [1.00210000e+05, 5.21720000e+04, 8.36840000e+04, 3.54040000e+04,\n",
       "        1.30424266e+01],\n",
       "       ...,\n",
       "       [5.23820000e+04, 2.69710000e+04, 6.00320000e+04, 5.44960000e+04,\n",
       "        1.00103407e+01],\n",
       "       [5.21710000e+04, 2.65700000e+04, 8.84520000e+04, 2.30360000e+04,\n",
       "        1.00102460e+01],\n",
       "       [5.25490000e+04, 2.68910000e+04, 3.63240000e+04, 1.77220000e+04,\n",
       "        1.00103118e+01]])"
      ]
     },
     "execution_count": 4,
     "metadata": {},
     "output_type": "execute_result"
    }
   ],
   "source": [
    "attack_set_1"
   ]
  },
  {
   "cell_type": "raw",
   "metadata": {},
   "source": [
    "Create output data"
   ]
  },
  {
   "cell_type": "code",
   "execution_count": 5,
   "metadata": {},
   "outputs": [],
   "source": [
    "zeroes_set = np.zeros((len(no_attack_set_1),1))\n",
    "ones_set = np.ones((len(attack_set_1),1))\n",
    "target_set = np.concatenate((ones_set, zeroes_set), axis=0)"
   ]
  },
  {
   "cell_type": "raw",
   "metadata": {},
   "source": [
    "Create type of model"
   ]
  },
  {
   "cell_type": "code",
   "execution_count": 29,
   "metadata": {},
   "outputs": [],
   "source": [
    "# Default Model\n",
    "tf.keras.backend.clear_session()\n",
    "\n",
    "input_size = 5\n",
    "output_size = 1\n",
    "\n",
    "model = tf.keras.Sequential([\n",
    "    tf.keras.layers.Dense(\n",
    "        5, \n",
    "        activation='relu', \n",
    "        input_shape=(input_size,),\n",
    "        kernel_initializer='glorot_normal',\n",
    "    ),\n",
    "#     tf.keras.layers.Dense(\n",
    "#         5, \n",
    "#         activation='relu',\n",
    "#     ),\n",
    "    tf.keras.layers.Dense(1, activation='sigmoid'),\n",
    "])\n",
    "\n",
    "model.compile(optimizer=tf.keras.optimizers.Adam(), \n",
    "                loss='binary_crossentropy', \n",
    "                metrics=['accuracy'])"
   ]
  },
  {
   "cell_type": "raw",
   "metadata": {},
   "source": [
    "Callbacks for model customization"
   ]
  },
  {
   "cell_type": "code",
   "execution_count": 30,
   "metadata": {},
   "outputs": [],
   "source": [
    "modelStartedTime = datetime.datetime.now().strftime(\"%Y_%m_%dt%H_%M_%S\")\n",
    "\n",
    "log_dir = os.path.join(\n",
    "    \"logs\",\n",
    "    \"adam_optimizer\",\n",
    "    \"loss_binary_crossentropy\"\n",
    "    \"one_hidden_layer\",\n",
    "#   \"two_hidden_layers\",\n",
    "    \"validation_split_0D1\",\n",
    "    modelStartedTime,\n",
    ")\n",
    "\n",
    "# log_dir = os.path.join(\n",
    "#     \"logs\",\n",
    "#     \"test\",\n",
    "#     modelStartedTime,\n",
    "# )\n",
    "\n",
    "callbacks = [\n",
    "    # tf.keras.callbacks.EarlyStopping(patience=50, monitor='val_loss'),\n",
    "    tf.keras.callbacks.TensorBoard(\n",
    "        log_dir=log_dir,\n",
    "        \n",
    "        #update_freq='epoch'        \n",
    "    )\n",
    "]"
   ]
  },
  {
   "cell_type": "raw",
   "metadata": {},
   "source": [
    "Train Model"
   ]
  },
  {
   "cell_type": "code",
   "execution_count": 31,
   "metadata": {
    "scrolled": true
   },
   "outputs": [
    {
     "name": "stdout",
     "output_type": "stream",
     "text": [
      "Train on 1159 samples, validate on 129 samples\n",
      "Epoch 1/100\n",
      "1159/1159 - 1s - loss: 71880.1010 - accuracy: 0.5039 - val_loss: 0.0445 - val_accuracy: 1.0000\n",
      "Epoch 2/100\n",
      "1159/1159 - 0s - loss: 60142.9361 - accuracy: 0.5039 - val_loss: 0.0709 - val_accuracy: 1.0000\n",
      "Epoch 3/100\n",
      "1159/1159 - 0s - loss: 48749.7152 - accuracy: 0.5039 - val_loss: 0.1077 - val_accuracy: 1.0000\n",
      "Epoch 4/100\n",
      "1159/1159 - 0s - loss: 37717.7785 - accuracy: 0.5039 - val_loss: 2.9199 - val_accuracy: 0.8992\n",
      "Epoch 5/100\n",
      "1159/1159 - 0s - loss: 26604.3802 - accuracy: 0.4944 - val_loss: 6.5656 - val_accuracy: 0.8992\n",
      "Epoch 6/100\n",
      "1159/1159 - 0s - loss: 16054.9019 - accuracy: 0.4271 - val_loss: 107.2649 - val_accuracy: 0.8527\n",
      "Epoch 7/100\n",
      "1159/1159 - 0s - loss: 8755.4206 - accuracy: 0.3365 - val_loss: 681.4843 - val_accuracy: 0.8140\n",
      "Epoch 8/100\n",
      "1159/1159 - 0s - loss: 6386.0627 - accuracy: 0.3563 - val_loss: 760.6363 - val_accuracy: 0.8140\n",
      "Epoch 9/100\n",
      "1159/1159 - 0s - loss: 5490.5501 - accuracy: 0.3917 - val_loss: 607.0749 - val_accuracy: 0.8140\n",
      "Epoch 10/100\n",
      "1159/1159 - 0s - loss: 4728.4720 - accuracy: 0.4219 - val_loss: 445.9632 - val_accuracy: 0.8140\n",
      "Epoch 11/100\n",
      "1159/1159 - 0s - loss: 4041.9738 - accuracy: 0.4452 - val_loss: 300.7187 - val_accuracy: 0.8140\n",
      "Epoch 12/100\n",
      "1159/1159 - 0s - loss: 3439.7337 - accuracy: 0.4711 - val_loss: 186.8024 - val_accuracy: 0.8372\n",
      "Epoch 13/100\n",
      "1159/1159 - 0s - loss: 2904.9994 - accuracy: 0.5013 - val_loss: 115.6083 - val_accuracy: 0.8372\n",
      "Epoch 14/100\n",
      "1159/1159 - 0s - loss: 2441.3241 - accuracy: 0.5315 - val_loss: 34.4669 - val_accuracy: 0.8605\n",
      "Epoch 15/100\n",
      "1159/1159 - 0s - loss: 2046.4375 - accuracy: 0.5539 - val_loss: 13.2919 - val_accuracy: 0.8915\n",
      "Epoch 16/100\n",
      "1159/1159 - 0s - loss: 1687.2905 - accuracy: 0.5807 - val_loss: 8.4259 - val_accuracy: 0.8915\n",
      "Epoch 17/100\n",
      "1159/1159 - 0s - loss: 1395.8186 - accuracy: 0.6178 - val_loss: 3.5737 - val_accuracy: 0.8915\n",
      "Epoch 18/100\n",
      "1159/1159 - 0s - loss: 1165.9493 - accuracy: 0.6445 - val_loss: 2.7281 - val_accuracy: 0.8992\n",
      "Epoch 19/100\n",
      "1159/1159 - 0s - loss: 976.0362 - accuracy: 0.6704 - val_loss: 2.1843 - val_accuracy: 0.8992\n",
      "Epoch 20/100\n",
      "1159/1159 - 0s - loss: 814.0441 - accuracy: 0.6972 - val_loss: 1.6841 - val_accuracy: 0.8992\n",
      "Epoch 21/100\n",
      "1159/1159 - 0s - loss: 684.4743 - accuracy: 0.7204 - val_loss: 1.2715 - val_accuracy: 0.8992\n",
      "Epoch 22/100\n",
      "1159/1159 - 0s - loss: 584.6944 - accuracy: 0.7481 - val_loss: 0.9223 - val_accuracy: 0.8992\n",
      "Epoch 23/100\n",
      "1159/1159 - 0s - loss: 502.0533 - accuracy: 0.7714 - val_loss: 0.5354 - val_accuracy: 0.8992\n",
      "Epoch 24/100\n",
      "1159/1159 - 0s - loss: 430.9897 - accuracy: 0.7895 - val_loss: 0.2817 - val_accuracy: 0.9535\n",
      "Epoch 25/100\n",
      "1159/1159 - 0s - loss: 375.7209 - accuracy: 0.8024 - val_loss: 0.2159 - val_accuracy: 1.0000\n",
      "Epoch 26/100\n",
      "1159/1159 - 0s - loss: 332.2150 - accuracy: 0.8145 - val_loss: 0.1984 - val_accuracy: 1.0000\n",
      "Epoch 27/100\n",
      "1159/1159 - 0s - loss: 295.6042 - accuracy: 0.8179 - val_loss: 0.1901 - val_accuracy: 1.0000\n",
      "Epoch 28/100\n",
      "1159/1159 - 0s - loss: 262.2848 - accuracy: 0.8300 - val_loss: 0.1794 - val_accuracy: 1.0000\n",
      "Epoch 29/100\n",
      "1159/1159 - 0s - loss: 234.2437 - accuracy: 0.8438 - val_loss: 0.1706 - val_accuracy: 1.0000\n",
      "Epoch 30/100\n",
      "1159/1159 - 0s - loss: 213.3247 - accuracy: 0.8507 - val_loss: 0.1623 - val_accuracy: 1.0000\n",
      "Epoch 31/100\n",
      "1159/1159 - 0s - loss: 196.0570 - accuracy: 0.8542 - val_loss: 0.1554 - val_accuracy: 1.0000\n",
      "Epoch 32/100\n",
      "1159/1159 - 0s - loss: 181.1373 - accuracy: 0.8628 - val_loss: 0.1462 - val_accuracy: 1.0000\n",
      "Epoch 33/100\n",
      "1159/1159 - 0s - loss: 167.3584 - accuracy: 0.8654 - val_loss: 0.1381 - val_accuracy: 1.0000\n",
      "Epoch 34/100\n",
      "1159/1159 - 0s - loss: 163.1001 - accuracy: 0.8671 - val_loss: 0.1324 - val_accuracy: 1.0000\n",
      "Epoch 35/100\n",
      "1159/1159 - 0s - loss: 151.4623 - accuracy: 0.8714 - val_loss: 0.1249 - val_accuracy: 1.0000\n",
      "Epoch 36/100\n",
      "1159/1159 - 0s - loss: 140.1447 - accuracy: 0.8758 - val_loss: 0.1168 - val_accuracy: 1.0000\n",
      "Epoch 37/100\n",
      "1159/1159 - 0s - loss: 133.0600 - accuracy: 0.8792 - val_loss: 0.1109 - val_accuracy: 1.0000\n",
      "Epoch 38/100\n",
      "1159/1159 - 0s - loss: 126.3135 - accuracy: 0.8775 - val_loss: 0.1038 - val_accuracy: 1.0000\n",
      "Epoch 39/100\n",
      "1159/1159 - 0s - loss: 119.7974 - accuracy: 0.8870 - val_loss: 0.0986 - val_accuracy: 1.0000\n",
      "Epoch 40/100\n",
      "1159/1159 - 0s - loss: 111.9120 - accuracy: 0.8818 - val_loss: 0.0929 - val_accuracy: 1.0000\n",
      "Epoch 41/100\n",
      "1159/1159 - 0s - loss: 111.0058 - accuracy: 0.8852 - val_loss: 0.0865 - val_accuracy: 1.0000\n",
      "Epoch 42/100\n",
      "1159/1159 - 0s - loss: 101.2700 - accuracy: 0.8852 - val_loss: 0.0811 - val_accuracy: 1.0000\n",
      "Epoch 43/100\n",
      "1159/1159 - 0s - loss: 97.8192 - accuracy: 0.8835 - val_loss: 0.0763 - val_accuracy: 1.0000\n",
      "Epoch 44/100\n",
      "1159/1159 - 0s - loss: 97.0738 - accuracy: 0.8887 - val_loss: 0.0716 - val_accuracy: 1.0000\n",
      "Epoch 45/100\n",
      "1159/1159 - 0s - loss: 88.9867 - accuracy: 0.8870 - val_loss: 0.0661 - val_accuracy: 1.0000\n",
      "Epoch 46/100\n",
      "1159/1159 - 0s - loss: 81.7388 - accuracy: 0.8913 - val_loss: 0.0620 - val_accuracy: 1.0000\n",
      "Epoch 47/100\n",
      "1159/1159 - 0s - loss: 76.7562 - accuracy: 0.8870 - val_loss: 0.0575 - val_accuracy: 1.0000\n",
      "Epoch 48/100\n",
      "1159/1159 - 0s - loss: 71.1181 - accuracy: 0.8844 - val_loss: 0.0535 - val_accuracy: 1.0000\n",
      "Epoch 49/100\n",
      "1159/1159 - 0s - loss: 67.1544 - accuracy: 0.8887 - val_loss: 0.0500 - val_accuracy: 1.0000\n",
      "Epoch 50/100\n",
      "1159/1159 - 0s - loss: 64.0312 - accuracy: 0.8870 - val_loss: 0.0458 - val_accuracy: 1.0000\n",
      "Epoch 51/100\n",
      "1159/1159 - 0s - loss: 55.8904 - accuracy: 0.8930 - val_loss: 0.0426 - val_accuracy: 1.0000\n",
      "Epoch 52/100\n",
      "1159/1159 - 0s - loss: 52.0550 - accuracy: 0.8939 - val_loss: 0.0393 - val_accuracy: 1.0000\n",
      "Epoch 53/100\n",
      "1159/1159 - 0s - loss: 44.6823 - accuracy: 0.8921 - val_loss: 0.0361 - val_accuracy: 1.0000\n",
      "Epoch 54/100\n",
      "1159/1159 - 0s - loss: 40.4159 - accuracy: 0.8921 - val_loss: 0.0334 - val_accuracy: 1.0000\n",
      "Epoch 55/100\n",
      "1159/1159 - 0s - loss: 37.8605 - accuracy: 0.8870 - val_loss: 0.0307 - val_accuracy: 1.0000\n",
      "Epoch 56/100\n",
      "1159/1159 - 0s - loss: 30.5692 - accuracy: 0.8939 - val_loss: 0.0281 - val_accuracy: 1.0000\n",
      "Epoch 57/100\n",
      "1159/1159 - 0s - loss: 22.9834 - accuracy: 0.8991 - val_loss: 0.0261 - val_accuracy: 1.0000\n",
      "Epoch 58/100\n",
      "1159/1159 - 0s - loss: 17.9489 - accuracy: 0.9034 - val_loss: 0.0242 - val_accuracy: 1.0000\n",
      "Epoch 59/100\n",
      "1159/1159 - 0s - loss: 12.6377 - accuracy: 0.8982 - val_loss: 0.0225 - val_accuracy: 1.0000\n",
      "Epoch 60/100\n",
      "1159/1159 - 0s - loss: 12.8508 - accuracy: 0.8792 - val_loss: 0.0211 - val_accuracy: 1.0000\n",
      "Epoch 61/100\n",
      "1159/1159 - 0s - loss: 9.0214 - accuracy: 0.8947 - val_loss: 0.0199 - val_accuracy: 1.0000\n",
      "Epoch 62/100\n",
      "1159/1159 - 0s - loss: 7.1757 - accuracy: 0.9137 - val_loss: 0.0190 - val_accuracy: 1.0000\n",
      "Epoch 63/100\n",
      "1159/1159 - 0s - loss: 7.4075 - accuracy: 0.9077 - val_loss: 0.0181 - val_accuracy: 1.0000\n",
      "Epoch 64/100\n",
      "1159/1159 - 0s - loss: 8.4908 - accuracy: 0.8861 - val_loss: 0.0172 - val_accuracy: 1.0000\n",
      "Epoch 65/100\n",
      "1159/1159 - 0s - loss: 7.8378 - accuracy: 0.8870 - val_loss: 0.0164 - val_accuracy: 1.0000\n",
      "Epoch 66/100\n",
      "1159/1159 - 0s - loss: 11.3585 - accuracy: 0.8809 - val_loss: 0.0155 - val_accuracy: 1.0000\n",
      "Epoch 67/100\n",
      "1159/1159 - 0s - loss: 6.6029 - accuracy: 0.9025 - val_loss: 0.0147 - val_accuracy: 1.0000\n",
      "Epoch 68/100\n",
      "1159/1159 - 0s - loss: 8.4093 - accuracy: 0.8913 - val_loss: 0.0140 - val_accuracy: 1.0000\n",
      "Epoch 69/100\n",
      "1159/1159 - 0s - loss: 7.4870 - accuracy: 0.8956 - val_loss: 0.0134 - val_accuracy: 1.0000\n",
      "Epoch 70/100\n",
      "1159/1159 - 0s - loss: 11.8958 - accuracy: 0.8689 - val_loss: 0.0127 - val_accuracy: 1.0000\n",
      "Epoch 71/100\n",
      "1159/1159 - 0s - loss: 12.5368 - accuracy: 0.8706 - val_loss: 0.0118 - val_accuracy: 1.0000\n",
      "Epoch 72/100\n",
      "1159/1159 - 0s - loss: 7.9655 - accuracy: 0.8991 - val_loss: 0.0111 - val_accuracy: 1.0000\n",
      "Epoch 73/100\n",
      "1159/1159 - 0s - loss: 9.1290 - accuracy: 0.8921 - val_loss: 0.0105 - val_accuracy: 1.0000\n",
      "Epoch 74/100\n",
      "1159/1159 - 0s - loss: 7.5973 - accuracy: 0.8878 - val_loss: 0.2465 - val_accuracy: 0.9845\n",
      "Epoch 75/100\n",
      "1159/1159 - 0s - loss: 9.1586 - accuracy: 0.8913 - val_loss: 0.0094 - val_accuracy: 1.0000\n",
      "Epoch 76/100\n",
      "1159/1159 - 0s - loss: 6.4946 - accuracy: 0.9068 - val_loss: 0.0089 - val_accuracy: 1.0000\n",
      "Epoch 77/100\n",
      "1159/1159 - 0s - loss: 16.1109 - accuracy: 0.8481 - val_loss: 0.0084 - val_accuracy: 1.0000\n"
     ]
    },
    {
     "name": "stdout",
     "output_type": "stream",
     "text": [
      "Epoch 78/100\n",
      "1159/1159 - 0s - loss: 9.2333 - accuracy: 0.8991 - val_loss: 0.0078 - val_accuracy: 1.0000\n",
      "Epoch 79/100\n",
      "1159/1159 - 0s - loss: 6.4790 - accuracy: 0.9163 - val_loss: 0.0074 - val_accuracy: 1.0000\n",
      "Epoch 80/100\n",
      "1159/1159 - 0s - loss: 8.0653 - accuracy: 0.8878 - val_loss: 0.0070 - val_accuracy: 1.0000\n",
      "Epoch 81/100\n",
      "1159/1159 - 0s - loss: 6.5340 - accuracy: 0.9025 - val_loss: 0.0067 - val_accuracy: 1.0000\n",
      "Epoch 82/100\n",
      "1159/1159 - 0s - loss: 6.0389 - accuracy: 0.9008 - val_loss: 0.0063 - val_accuracy: 1.0000\n",
      "Epoch 83/100\n",
      "1159/1159 - 0s - loss: 7.6242 - accuracy: 0.8913 - val_loss: 0.0061 - val_accuracy: 1.0000\n",
      "Epoch 84/100\n",
      "1159/1159 - 0s - loss: 5.7160 - accuracy: 0.9060 - val_loss: 0.0058 - val_accuracy: 1.0000\n",
      "Epoch 85/100\n",
      "1159/1159 - 0s - loss: 8.6964 - accuracy: 0.8766 - val_loss: 0.0054 - val_accuracy: 1.0000\n",
      "Epoch 86/100\n",
      "1159/1159 - 0s - loss: 5.5971 - accuracy: 0.9025 - val_loss: 0.0051 - val_accuracy: 1.0000\n",
      "Epoch 87/100\n",
      "1159/1159 - 0s - loss: 5.1188 - accuracy: 0.9077 - val_loss: 0.0049 - val_accuracy: 1.0000\n",
      "Epoch 88/100\n",
      "1159/1159 - 0s - loss: 6.3310 - accuracy: 0.8896 - val_loss: 0.0046 - val_accuracy: 1.0000\n",
      "Epoch 89/100\n",
      "1159/1159 - 0s - loss: 7.3238 - accuracy: 0.8835 - val_loss: 0.0044 - val_accuracy: 1.0000\n",
      "Epoch 90/100\n",
      "1159/1159 - 0s - loss: 18.3290 - accuracy: 0.8542 - val_loss: 0.0041 - val_accuracy: 1.0000\n",
      "Epoch 91/100\n",
      "1159/1159 - 0s - loss: 13.9014 - accuracy: 0.8775 - val_loss: 0.0037 - val_accuracy: 1.0000\n",
      "Epoch 92/100\n",
      "1159/1159 - 0s - loss: 10.4843 - accuracy: 0.8827 - val_loss: 0.0034 - val_accuracy: 1.0000\n",
      "Epoch 93/100\n",
      "1159/1159 - 0s - loss: 6.6124 - accuracy: 0.8999 - val_loss: 0.0032 - val_accuracy: 1.0000\n",
      "Epoch 94/100\n",
      "1159/1159 - 0s - loss: 9.7686 - accuracy: 0.8827 - val_loss: 0.0030 - val_accuracy: 1.0000\n",
      "Epoch 95/100\n",
      "1159/1159 - 0s - loss: 8.1532 - accuracy: 0.8809 - val_loss: 0.0028 - val_accuracy: 1.0000\n",
      "Epoch 96/100\n",
      "1159/1159 - 0s - loss: 4.5971 - accuracy: 0.9154 - val_loss: 0.0027 - val_accuracy: 1.0000\n",
      "Epoch 97/100\n",
      "1159/1159 - 0s - loss: 6.9732 - accuracy: 0.8844 - val_loss: 0.0025 - val_accuracy: 1.0000\n",
      "Epoch 98/100\n",
      "1159/1159 - 0s - loss: 6.3122 - accuracy: 0.8982 - val_loss: 0.0075 - val_accuracy: 1.0000\n",
      "Epoch 99/100\n",
      "1159/1159 - 0s - loss: 13.9529 - accuracy: 0.8611 - val_loss: 0.0022 - val_accuracy: 1.0000\n",
      "Epoch 100/100\n",
      "1159/1159 - 0s - loss: 8.5675 - accuracy: 0.8818 - val_loss: 0.0020 - val_accuracy: 1.0000\n"
     ]
    },
    {
     "data": {
      "text/plain": [
       "<tensorflow.python.keras.callbacks.History at 0x7fa2e06314e0>"
      ]
     },
     "execution_count": 31,
     "metadata": {},
     "output_type": "execute_result"
    }
   ],
   "source": [
    "model.fit(\n",
    "    training_set, \n",
    "    target_set, \n",
    "    initial_epoch=0,\n",
    "    # initial_epoch=init_epoch-epoch_count,\n",
    "    epochs=100,\n",
    "    validation_split=0.1, \n",
    "    # batch_size=20, \n",
    "    verbose=2, \n",
    "    shuffle=True,\n",
    "    callbacks=callbacks, \n",
    ")"
   ]
  },
  {
   "cell_type": "code",
   "execution_count": 32,
   "metadata": {},
   "outputs": [],
   "source": [
    "model.save('tcp_port_model.h5')"
   ]
  },
  {
   "cell_type": "raw",
   "metadata": {},
   "source": [
    "Get Weights"
   ]
  },
  {
   "cell_type": "code",
   "execution_count": 9,
   "metadata": {},
   "outputs": [
    {
     "data": {
      "text/plain": [
       "[array([[ 0.12517838, -0.03866845, -0.20502004, -0.75644237, -0.14499573],\n",
       "        [-0.19907333, -0.6377549 ,  0.41524097, -0.4151665 , -0.3867644 ],\n",
       "        [ 0.51228166, -0.16080315,  0.34544232,  0.06832434, -0.27374703],\n",
       "        [ 0.33012253, -0.7053988 ,  0.21261647, -0.65571713,  0.9632727 ],\n",
       "        [ 0.15257913,  0.05354644,  0.7596836 , -0.13905106, -0.12730189]],\n",
       "       dtype=float32),\n",
       " array([-0.22902527,  0.        ,  0.3487387 ,  0.        ,  0.37249017],\n",
       "       dtype=float32)]"
      ]
     },
     "execution_count": 9,
     "metadata": {},
     "output_type": "execute_result"
    }
   ],
   "source": [
    "model.layers[0].get_weights()"
   ]
  },
  {
   "cell_type": "raw",
   "metadata": {},
   "source": [
    "Get output of model"
   ]
  },
  {
   "cell_type": "raw",
   "metadata": {},
   "source": [
    "Save Machine Learning Model"
   ]
  },
  {
   "cell_type": "code",
   "execution_count": 19,
   "metadata": {},
   "outputs": [
    {
     "name": "stdout",
     "output_type": "stream",
     "text": [
      "WARNING:tensorflow:From <ipython-input-19-4b237b8aad4b>:1: export_saved_model (from tensorflow.python.keras.saving.saved_model_experimental) is deprecated and will be removed in a future version.\n",
      "Instructions for updating:\n",
      "Please use `model.save(..., save_format=\"tf\")` or `tf.keras.models.save_model(..., save_format=\"tf\")`.\n",
      "WARNING:tensorflow:From /home/mint/Desktop/sdn_backend/lib/python3.6/site-packages/tensorflow_core/python/ops/resource_variable_ops.py:1630: calling BaseResourceVariable.__init__ (from tensorflow.python.ops.resource_variable_ops) with constraint is deprecated and will be removed in a future version.\n",
      "Instructions for updating:\n",
      "If using Keras pass *_constraint arguments to layers.\n",
      "WARNING:tensorflow:From /home/mint/Desktop/sdn_backend/lib/python3.6/site-packages/tensorflow_core/python/saved_model/signature_def_utils_impl.py:253: build_tensor_info (from tensorflow.python.saved_model.utils_impl) is deprecated and will be removed in a future version.\n",
      "Instructions for updating:\n",
      "This function will only be available through the v1 compatibility library as tf.compat.v1.saved_model.utils.build_tensor_info or tf.compat.v1.saved_model.build_tensor_info.\n",
      "INFO:tensorflow:Signatures INCLUDED in export for Classify: None\n",
      "INFO:tensorflow:Signatures INCLUDED in export for Regress: None\n",
      "INFO:tensorflow:Signatures INCLUDED in export for Predict: None\n",
      "INFO:tensorflow:Signatures INCLUDED in export for Train: ['train']\n",
      "INFO:tensorflow:Signatures INCLUDED in export for Eval: None\n",
      "WARNING:tensorflow:Export includes no default signature!\n",
      "INFO:tensorflow:No assets to save.\n",
      "INFO:tensorflow:No assets to write.\n",
      "INFO:tensorflow:Signatures INCLUDED in export for Classify: None\n",
      "INFO:tensorflow:Signatures INCLUDED in export for Regress: None\n",
      "INFO:tensorflow:Signatures INCLUDED in export for Predict: None\n",
      "INFO:tensorflow:Signatures INCLUDED in export for Train: None\n",
      "INFO:tensorflow:Signatures INCLUDED in export for Eval: ['eval']\n",
      "WARNING:tensorflow:Export includes no default signature!\n",
      "INFO:tensorflow:No assets to save.\n",
      "INFO:tensorflow:No assets to write.\n",
      "INFO:tensorflow:Signatures INCLUDED in export for Classify: None\n",
      "INFO:tensorflow:Signatures INCLUDED in export for Regress: None\n",
      "INFO:tensorflow:Signatures INCLUDED in export for Predict: ['serving_default']\n",
      "INFO:tensorflow:Signatures INCLUDED in export for Train: None\n",
      "INFO:tensorflow:Signatures INCLUDED in export for Eval: None\n",
      "INFO:tensorflow:No assets to save.\n",
      "INFO:tensorflow:No assets to write.\n",
      "INFO:tensorflow:SavedModel written to: best_model_v22019_10_20t23_32_53.h5/saved_model.pb\n"
     ]
    }
   ],
   "source": [
    "tf.keras.experimental.export_saved_model(model, 'best_model_v2' + modelStartedTime + '.h5')"
   ]
  },
  {
   "cell_type": "code",
   "execution_count": 26,
   "metadata": {},
   "outputs": [],
   "source": [
    "model.save('port_model.h5')"
   ]
  },
  {
   "cell_type": "code",
   "execution_count": 35,
   "metadata": {},
   "outputs": [],
   "source": [
    "loaded_model = tf.keras.models.load_model('best_model_2019_10_20t21_32_39.h5')"
   ]
  },
  {
   "cell_type": "code",
   "execution_count": 36,
   "metadata": {},
   "outputs": [
    {
     "name": "stdout",
     "output_type": "stream",
     "text": [
      "Model: \"sequential\"\n",
      "_________________________________________________________________\n",
      "Layer (type)                 Output Shape              Param #   \n",
      "=================================================================\n",
      "dense (Dense)                (None, 5)                 30        \n",
      "_________________________________________________________________\n",
      "dense_1 (Dense)              (None, 5)                 30        \n",
      "_________________________________________________________________\n",
      "dense_2 (Dense)              (None, 1)                 6         \n",
      "=================================================================\n",
      "Total params: 66\n",
      "Trainable params: 66\n",
      "Non-trainable params: 0\n",
      "_________________________________________________________________\n"
     ]
    }
   ],
   "source": [
    "loaded_model.summary()"
   ]
  },
  {
   "cell_type": "code",
   "execution_count": null,
   "metadata": {},
   "outputs": [],
   "source": []
  }
 ],
 "metadata": {
  "kernelspec": {
   "display_name": "Python 3",
   "language": "python",
   "name": "python3"
  },
  "language_info": {
   "codemirror_mode": {
    "name": "ipython",
    "version": 3
   },
   "file_extension": ".py",
   "mimetype": "text/x-python",
   "name": "python",
   "nbconvert_exporter": "python",
   "pygments_lexer": "ipython3",
   "version": "3.6.8"
  }
 },
 "nbformat": 4,
 "nbformat_minor": 2
}
