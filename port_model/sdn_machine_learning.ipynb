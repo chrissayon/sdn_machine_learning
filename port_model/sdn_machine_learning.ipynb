{
 "cells": [
  {
   "cell_type": "markdown",
   "metadata": {},
   "source": [
    "Import Libraries"
   ]
  },
  {
   "cell_type": "code",
   "execution_count": 1,
   "metadata": {},
   "outputs": [],
   "source": [
    "import csv\n",
    "import numpy as np\n",
    "import tensorflow as tf\n",
    "import datetime\n",
    "import os\n",
    "from tensorflow.keras import backend as K"
   ]
  },
  {
   "cell_type": "raw",
   "metadata": {},
   "source": [
    "Load data"
   ]
  },
  {
   "cell_type": "code",
   "execution_count": 2,
   "metadata": {},
   "outputs": [],
   "source": [
    "attack_set_1_raw = np.genfromtxt('zodiac_attacked.csv', \n",
    "                             delimiter=',',\n",
    "                             skip_header=2)\n",
    "\n",
    "no_attack_set_1_raw = np.genfromtxt('zodiac_not_attacked.csv', \n",
    "                             delimiter=',',\n",
    "                             skip_header=2)"
   ]
  },
  {
   "cell_type": "raw",
   "metadata": {},
   "source": [
    "Clean up data (Remove flow count from data)"
   ]
  },
  {
   "cell_type": "code",
   "execution_count": 3,
   "metadata": {},
   "outputs": [],
   "source": [
    "attack_set_1 = np.take(attack_set_1_raw, [1,2,3,4,15], axis=1)\n",
    "no_attack_set_1 = np.take(no_attack_set_1_raw, [1,2,3,4,15], axis=1)\n",
    "training_set = np.concatenate((attack_set_1, no_attack_set_1), axis=0)"
   ]
  },
  {
   "cell_type": "code",
   "execution_count": 4,
   "metadata": {},
   "outputs": [
    {
     "data": {
      "text/plain": [
       "array([[8.14870000e+04, 0.00000000e+00, 5.71780000e+04, 7.68000000e+02,\n",
       "        1.00102465e+01],\n",
       "       [8.14740000e+04, 1.00000000e+00, 1.05392000e+05, 2.05100000e+03,\n",
       "        1.00103073e+01],\n",
       "       [8.17790000e+04, 1.00000000e+00, 9.68790000e+04, 1.85600000e+03,\n",
       "        1.00102484e+01],\n",
       "       ...,\n",
       "       [5.23820000e+04, 2.69710000e+04, 6.00320000e+04, 5.44960000e+04,\n",
       "        1.00103407e+01],\n",
       "       [5.21710000e+04, 2.65700000e+04, 8.84520000e+04, 2.30360000e+04,\n",
       "        1.00102460e+01],\n",
       "       [5.25490000e+04, 2.68910000e+04, 3.63240000e+04, 1.77220000e+04,\n",
       "        1.00103118e+01]])"
      ]
     },
     "execution_count": 4,
     "metadata": {},
     "output_type": "execute_result"
    }
   ],
   "source": [
    "attack_set_1"
   ]
  },
  {
   "cell_type": "raw",
   "metadata": {},
   "source": [
    "Create output data"
   ]
  },
  {
   "cell_type": "code",
   "execution_count": 5,
   "metadata": {},
   "outputs": [],
   "source": [
    "zeroes_set = np.zeros((len(no_attack_set_1),1))\n",
    "ones_set = np.ones((len(attack_set_1),1))\n",
    "target_set = np.concatenate((ones_set, zeroes_set), axis=0)"
   ]
  },
  {
   "cell_type": "raw",
   "metadata": {},
   "source": [
    "Create type of model"
   ]
  },
  {
   "cell_type": "code",
   "execution_count": 31,
   "metadata": {},
   "outputs": [],
   "source": [
    "# Default Model\n",
    "tf.keras.backend.clear_session()\n",
    "\n",
    "input_size = 5\n",
    "output_size = 1\n",
    "\n",
    "model = tf.keras.Sequential([\n",
    "    tf.keras.layers.Dense(\n",
    "        5, \n",
    "        activation='relu', \n",
    "        input_shape=(input_size,),\n",
    "        kernel_initializer='glorot_normal',\n",
    "    ),\n",
    "    tf.keras.layers.Dense(\n",
    "        5, \n",
    "        activation='relu',\n",
    "    ),\n",
    "    tf.keras.layers.Dense(1, activation='sigmoid'),\n",
    "])\n",
    "\n",
    "model.compile(optimizer=tf.keras.optimizers.Adam(), \n",
    "                loss='binary_crossentropy', \n",
    "                metrics=['accuracy'])"
   ]
  },
  {
   "cell_type": "raw",
   "metadata": {},
   "source": [
    "Callbacks for model customization"
   ]
  },
  {
   "cell_type": "code",
   "execution_count": 32,
   "metadata": {},
   "outputs": [],
   "source": [
    "modelStartedTime = datetime.datetime.now().strftime(\"%Y_%m_%dt%H_%M_%S\")\n",
    "\n",
    "log_dir = os.path.join(\n",
    "    \"logs\",\n",
    "    \"adam_optimizer\",\n",
    "    \"loss_binary_crossentropy\"\n",
    "    # \"one_hidden_layer\",\n",
    "    \"two_hidden_layers\",\n",
    "    \"validation_split_0D1\",\n",
    "    modelStartedTime,\n",
    ")\n",
    "\n",
    "# log_dir = os.path.join(\n",
    "#     \"logs\",\n",
    "#     \"test\",\n",
    "#     modelStartedTime,\n",
    "# )\n",
    "\n",
    "callbacks = [\n",
    "    # tf.keras.callbacks.EarlyStopping(patience=50, monitor='val_loss'),\n",
    "    tf.keras.callbacks.TensorBoard(\n",
    "        log_dir=log_dir,\n",
    "        \n",
    "        #update_freq='epoch'        \n",
    "    )\n",
    "]"
   ]
  },
  {
   "cell_type": "raw",
   "metadata": {},
   "source": [
    "Train Model"
   ]
  },
  {
   "cell_type": "code",
   "execution_count": 33,
   "metadata": {},
   "outputs": [
    {
     "name": "stdout",
     "output_type": "stream",
     "text": [
      "Train on 2338 samples, validate on 260 samples\n",
      "Epoch 1/100\n",
      "WARNING:tensorflow:Method (on_train_batch_end) is slow compared to the batch update (0.274770). Check your callbacks.\n",
      "WARNING:tensorflow:Method (on_train_batch_end) is slow compared to the batch update (0.133288). Check your callbacks.\n",
      "2338/2338 - 2s - loss: 4151.1870 - accuracy: 0.6843 - val_loss: 0.0115 - val_accuracy: 1.0000\n",
      "Epoch 2/100\n",
      "2338/2338 - 0s - loss: 431.3320 - accuracy: 0.8430 - val_loss: 0.0043 - val_accuracy: 1.0000\n",
      "Epoch 3/100\n",
      "2338/2338 - 0s - loss: 150.0254 - accuracy: 0.9192 - val_loss: 0.0046 - val_accuracy: 1.0000\n",
      "Epoch 4/100\n",
      "2338/2338 - 0s - loss: 108.6037 - accuracy: 0.9213 - val_loss: 0.0039 - val_accuracy: 1.0000\n",
      "Epoch 5/100\n",
      "2338/2338 - 0s - loss: 84.2695 - accuracy: 0.9192 - val_loss: 0.0040 - val_accuracy: 1.0000\n",
      "Epoch 6/100\n",
      "2338/2338 - 0s - loss: 64.9928 - accuracy: 0.9183 - val_loss: 0.5706 - val_accuracy: 0.9615\n",
      "Epoch 7/100\n",
      "2338/2338 - 0s - loss: 58.6836 - accuracy: 0.9183 - val_loss: 0.0036 - val_accuracy: 1.0000\n",
      "Epoch 8/100\n",
      "2338/2338 - 0s - loss: 48.7744 - accuracy: 0.9149 - val_loss: 0.0348 - val_accuracy: 0.9808\n",
      "Epoch 9/100\n",
      "2338/2338 - 0s - loss: 45.9581 - accuracy: 0.9166 - val_loss: 1.2431 - val_accuracy: 0.9577\n",
      "Epoch 10/100\n",
      "2338/2338 - 0s - loss: 38.0092 - accuracy: 0.9102 - val_loss: 0.0030 - val_accuracy: 1.0000\n",
      "Epoch 11/100\n",
      "2338/2338 - 1s - loss: 33.9058 - accuracy: 0.9140 - val_loss: 0.7399 - val_accuracy: 0.9615\n",
      "Epoch 12/100\n",
      "2338/2338 - 0s - loss: 28.0876 - accuracy: 0.9098 - val_loss: 1.0796 - val_accuracy: 0.9577\n",
      "Epoch 13/100\n",
      "2338/2338 - 0s - loss: 25.6531 - accuracy: 0.9029 - val_loss: 2.0651 - val_accuracy: 0.9577\n",
      "Epoch 14/100\n",
      "2338/2338 - 0s - loss: 25.9377 - accuracy: 0.9072 - val_loss: 1.2395 - val_accuracy: 0.9577\n",
      "Epoch 15/100\n",
      "2338/2338 - 1s - loss: 20.0250 - accuracy: 0.9076 - val_loss: 1.3805 - val_accuracy: 0.9577\n",
      "Epoch 16/100\n",
      "2338/2338 - 0s - loss: 26.0688 - accuracy: 0.9029 - val_loss: 0.0123 - val_accuracy: 0.9962\n",
      "Epoch 17/100\n",
      "2338/2338 - 0s - loss: 19.0452 - accuracy: 0.9046 - val_loss: 1.6669 - val_accuracy: 0.9577\n",
      "Epoch 18/100\n",
      "2338/2338 - 0s - loss: 17.7879 - accuracy: 0.9059 - val_loss: 0.6743 - val_accuracy: 0.9615\n",
      "Epoch 19/100\n",
      "2338/2338 - 0s - loss: 19.3844 - accuracy: 0.9063 - val_loss: 1.5253 - val_accuracy: 0.9577\n",
      "Epoch 20/100\n",
      "2338/2338 - 0s - loss: 16.0686 - accuracy: 0.9042 - val_loss: 0.0563 - val_accuracy: 0.9769\n",
      "Epoch 21/100\n",
      "2338/2338 - 0s - loss: 18.8761 - accuracy: 0.9033 - val_loss: 0.1831 - val_accuracy: 0.9692\n",
      "Epoch 22/100\n",
      "2338/2338 - 0s - loss: 14.3741 - accuracy: 0.9123 - val_loss: 0.7812 - val_accuracy: 0.9615\n",
      "Epoch 23/100\n",
      "2338/2338 - 0s - loss: 27.9737 - accuracy: 0.8999 - val_loss: 8.2055e-04 - val_accuracy: 1.0000\n",
      "Epoch 24/100\n",
      "2338/2338 - 0s - loss: 14.3299 - accuracy: 0.9068 - val_loss: 1.0913 - val_accuracy: 0.9615\n",
      "Epoch 25/100\n",
      "2338/2338 - 0s - loss: 12.4814 - accuracy: 0.9012 - val_loss: 1.6185 - val_accuracy: 0.9577\n",
      "Epoch 26/100\n",
      "2338/2338 - 0s - loss: 13.4858 - accuracy: 0.9003 - val_loss: 0.0274 - val_accuracy: 0.9846\n",
      "Epoch 27/100\n",
      "2338/2338 - 0s - loss: 12.1495 - accuracy: 0.9059 - val_loss: 0.0050 - val_accuracy: 1.0000\n",
      "Epoch 28/100\n",
      "2338/2338 - 0s - loss: 11.3499 - accuracy: 0.9029 - val_loss: 0.3443 - val_accuracy: 0.9615\n",
      "Epoch 29/100\n",
      "2338/2338 - 0s - loss: 14.0410 - accuracy: 0.9076 - val_loss: 4.9291e-04 - val_accuracy: 1.0000\n",
      "Epoch 30/100\n",
      "2338/2338 - 0s - loss: 11.3029 - accuracy: 0.9175 - val_loss: 0.3373 - val_accuracy: 0.9615\n",
      "Epoch 31/100\n",
      "2338/2338 - 0s - loss: 22.5098 - accuracy: 0.8948 - val_loss: 1.6257 - val_accuracy: 0.9577\n",
      "Epoch 32/100\n",
      "2338/2338 - 0s - loss: 13.9372 - accuracy: 0.9008 - val_loss: 2.9279 - val_accuracy: 0.9577\n",
      "Epoch 33/100\n",
      "2338/2338 - 0s - loss: 11.5174 - accuracy: 0.9119 - val_loss: 0.5452 - val_accuracy: 0.9615\n",
      "Epoch 34/100\n",
      "2338/2338 - 0s - loss: 15.4355 - accuracy: 0.9003 - val_loss: 3.8718e-04 - val_accuracy: 1.0000\n",
      "Epoch 35/100\n",
      "2338/2338 - 0s - loss: 15.6289 - accuracy: 0.9038 - val_loss: 0.3543 - val_accuracy: 0.9615\n",
      "Epoch 36/100\n",
      "2338/2338 - 0s - loss: 10.3078 - accuracy: 0.9029 - val_loss: 0.1289 - val_accuracy: 0.9692\n",
      "Epoch 37/100\n",
      "2338/2338 - 0s - loss: 9.0269 - accuracy: 0.8978 - val_loss: 0.3676 - val_accuracy: 0.9615\n",
      "Epoch 38/100\n",
      "2338/2338 - 0s - loss: 9.5107 - accuracy: 0.9110 - val_loss: 0.4647 - val_accuracy: 0.9615\n",
      "Epoch 39/100\n",
      "2338/2338 - 0s - loss: 9.8153 - accuracy: 0.9093 - val_loss: 2.4544e-04 - val_accuracy: 1.0000\n",
      "Epoch 40/100\n",
      "2338/2338 - 0s - loss: 10.8401 - accuracy: 0.8978 - val_loss: 0.0946 - val_accuracy: 0.9731\n",
      "Epoch 41/100\n",
      "2338/2338 - 0s - loss: 10.7291 - accuracy: 0.9089 - val_loss: 0.9921 - val_accuracy: 0.9615\n",
      "Epoch 42/100\n",
      "2338/2338 - 0s - loss: 9.3896 - accuracy: 0.9072 - val_loss: 7.4272 - val_accuracy: 0.8385\n",
      "Epoch 43/100\n",
      "2338/2338 - 0s - loss: 12.9165 - accuracy: 0.8845 - val_loss: 0.3075 - val_accuracy: 0.9615\n",
      "Epoch 44/100\n",
      "2338/2338 - 0s - loss: 12.1812 - accuracy: 0.9038 - val_loss: 2.0322 - val_accuracy: 0.9577\n",
      "Epoch 45/100\n",
      "2338/2338 - 0s - loss: 10.2766 - accuracy: 0.9080 - val_loss: 0.0094 - val_accuracy: 0.9962\n",
      "Epoch 46/100\n",
      "2338/2338 - 0s - loss: 7.5901 - accuracy: 0.9003 - val_loss: 0.6886 - val_accuracy: 0.9615\n",
      "Epoch 47/100\n",
      "2338/2338 - 0s - loss: 9.9605 - accuracy: 0.9059 - val_loss: 0.0736 - val_accuracy: 0.9769\n",
      "Epoch 48/100\n",
      "2338/2338 - 0s - loss: 13.5451 - accuracy: 0.9059 - val_loss: 1.2596e-04 - val_accuracy: 1.0000\n",
      "Epoch 49/100\n",
      "2338/2338 - 0s - loss: 24.1295 - accuracy: 0.9033 - val_loss: 1.1256e-04 - val_accuracy: 1.0000\n",
      "Epoch 50/100\n",
      "2338/2338 - 0s - loss: 12.2304 - accuracy: 0.9140 - val_loss: 0.0951 - val_accuracy: 0.9769\n",
      "Epoch 51/100\n",
      "2338/2338 - 0s - loss: 10.9973 - accuracy: 0.9106 - val_loss: 0.0702 - val_accuracy: 0.9769\n",
      "Epoch 52/100\n",
      "2338/2338 - 0s - loss: 8.1888 - accuracy: 0.9089 - val_loss: 0.0027 - val_accuracy: 1.0000\n",
      "Epoch 53/100\n",
      "2338/2338 - 0s - loss: 7.6688 - accuracy: 0.9003 - val_loss: 0.0474 - val_accuracy: 0.9769\n",
      "Epoch 54/100\n",
      "2338/2338 - 0s - loss: 8.8224 - accuracy: 0.9089 - val_loss: 0.0015 - val_accuracy: 1.0000\n",
      "Epoch 55/100\n",
      "2338/2338 - 0s - loss: 12.3904 - accuracy: 0.9055 - val_loss: 0.2857 - val_accuracy: 0.9615\n",
      "Epoch 56/100\n",
      "2338/2338 - 0s - loss: 10.9950 - accuracy: 0.8995 - val_loss: 1.0427 - val_accuracy: 0.9615\n",
      "Epoch 57/100\n",
      "2338/2338 - 0s - loss: 9.9079 - accuracy: 0.9132 - val_loss: 0.7321 - val_accuracy: 0.9615\n",
      "Epoch 58/100\n",
      "2338/2338 - 0s - loss: 8.6810 - accuracy: 0.9076 - val_loss: 0.2015 - val_accuracy: 0.9692\n",
      "Epoch 59/100\n",
      "2338/2338 - 0s - loss: 11.0697 - accuracy: 0.9063 - val_loss: 0.0203 - val_accuracy: 0.9885\n",
      "Epoch 60/100\n",
      "2338/2338 - 0s - loss: 8.9815 - accuracy: 0.9085 - val_loss: 6.3687e-05 - val_accuracy: 1.0000\n",
      "Epoch 61/100\n",
      "2338/2338 - 0s - loss: 8.4527 - accuracy: 0.9072 - val_loss: 1.3042 - val_accuracy: 0.9577\n",
      "Epoch 62/100\n",
      "2338/2338 - 0s - loss: 6.2891 - accuracy: 0.9012 - val_loss: 0.9392 - val_accuracy: 0.9615\n",
      "Epoch 63/100\n",
      "2338/2338 - 0s - loss: 7.6254 - accuracy: 0.9076 - val_loss: 0.1370 - val_accuracy: 0.9692\n",
      "Epoch 64/100\n",
      "2338/2338 - 0s - loss: 10.9606 - accuracy: 0.9085 - val_loss: 5.0725e-05 - val_accuracy: 1.0000\n",
      "Epoch 65/100\n",
      "2338/2338 - 0s - loss: 7.0632 - accuracy: 0.9136 - val_loss: 5.2936e-05 - val_accuracy: 1.0000\n",
      "Epoch 66/100\n",
      "2338/2338 - 0s - loss: 8.3449 - accuracy: 0.9059 - val_loss: 0.0636 - val_accuracy: 0.9769\n",
      "Epoch 67/100\n",
      "2338/2338 - 0s - loss: 7.8557 - accuracy: 0.9033 - val_loss: 0.1678 - val_accuracy: 0.9692\n",
      "Epoch 68/100\n",
      "2338/2338 - 0s - loss: 9.4572 - accuracy: 0.9025 - val_loss: 3.2119e-04 - val_accuracy: 1.0000\n",
      "Epoch 69/100\n",
      "2338/2338 - 1s - loss: 8.9487 - accuracy: 0.9016 - val_loss: 1.1952 - val_accuracy: 0.9577\n",
      "Epoch 70/100\n",
      "2338/2338 - 1s - loss: 10.4669 - accuracy: 0.9102 - val_loss: 1.0164 - val_accuracy: 0.9615\n",
      "Epoch 71/100\n",
      "2338/2338 - 1s - loss: 7.5404 - accuracy: 0.9055 - val_loss: 1.0818 - val_accuracy: 0.9577\n",
      "Epoch 72/100\n",
      "2338/2338 - 1s - loss: 6.8876 - accuracy: 0.9076 - val_loss: 0.9265 - val_accuracy: 0.9615\n",
      "Epoch 73/100\n",
      "2338/2338 - 1s - loss: 13.8417 - accuracy: 0.9038 - val_loss: 0.0194 - val_accuracy: 0.9885\n",
      "Epoch 74/100\n",
      "2338/2338 - 1s - loss: 10.9984 - accuracy: 0.9157 - val_loss: 3.2104e-05 - val_accuracy: 1.0000\n",
      "Epoch 75/100\n",
      "2338/2338 - 0s - loss: 6.5455 - accuracy: 0.9102 - val_loss: 3.2732e-05 - val_accuracy: 1.0000\n",
      "Epoch 76/100\n",
      "2338/2338 - 1s - loss: 6.7204 - accuracy: 0.9098 - val_loss: 3.3983e-05 - val_accuracy: 1.0000\n"
     ]
    },
    {
     "name": "stdout",
     "output_type": "stream",
     "text": [
      "Epoch 77/100\n",
      "2338/2338 - 0s - loss: 5.9221 - accuracy: 0.9038 - val_loss: 0.0775 - val_accuracy: 0.9769\n",
      "Epoch 78/100\n",
      "2338/2338 - 0s - loss: 6.6891 - accuracy: 0.9025 - val_loss: 0.7587 - val_accuracy: 0.9615\n",
      "Epoch 79/100\n",
      "2338/2338 - 0s - loss: 10.5885 - accuracy: 0.9213 - val_loss: 3.3666e-05 - val_accuracy: 1.0000\n",
      "Epoch 80/100\n",
      "2338/2338 - 0s - loss: 11.7015 - accuracy: 0.9059 - val_loss: 0.6698 - val_accuracy: 0.9615\n",
      "Epoch 81/100\n",
      "2338/2338 - 0s - loss: 6.2546 - accuracy: 0.9119 - val_loss: 1.2645 - val_accuracy: 0.9577\n",
      "Epoch 82/100\n",
      "2338/2338 - 0s - loss: 6.3086 - accuracy: 0.9080 - val_loss: 3.1032e-05 - val_accuracy: 1.0000\n",
      "Epoch 83/100\n",
      "2338/2338 - 0s - loss: 4.9691 - accuracy: 0.9093 - val_loss: 1.4775 - val_accuracy: 0.9577\n",
      "Epoch 84/100\n",
      "2338/2338 - 0s - loss: 6.2584 - accuracy: 0.9055 - val_loss: 3.0012e-05 - val_accuracy: 1.0000\n",
      "Epoch 85/100\n",
      "2338/2338 - 0s - loss: 7.8843 - accuracy: 0.9153 - val_loss: 1.9488e-04 - val_accuracy: 1.0000\n",
      "Epoch 86/100\n",
      "2338/2338 - 0s - loss: 8.5394 - accuracy: 0.9115 - val_loss: 2.9126e-05 - val_accuracy: 1.0000\n",
      "Epoch 87/100\n",
      "2338/2338 - 0s - loss: 7.9495 - accuracy: 0.9072 - val_loss: 1.3888 - val_accuracy: 0.9577\n",
      "Epoch 88/100\n",
      "2338/2338 - 0s - loss: 6.1075 - accuracy: 0.9115 - val_loss: 0.3092 - val_accuracy: 0.9615\n",
      "Epoch 89/100\n",
      "2338/2338 - 0s - loss: 3.9101 - accuracy: 0.9042 - val_loss: 3.5830e-05 - val_accuracy: 1.0000\n",
      "Epoch 90/100\n",
      "2338/2338 - 0s - loss: 9.1735 - accuracy: 0.9076 - val_loss: 3.1506e-05 - val_accuracy: 1.0000\n",
      "Epoch 91/100\n",
      "2338/2338 - 0s - loss: 3.9069 - accuracy: 0.9140 - val_loss: 3.7144e-04 - val_accuracy: 1.0000\n",
      "Epoch 92/100\n",
      "2338/2338 - 0s - loss: 3.4357 - accuracy: 0.9059 - val_loss: 3.2334e-05 - val_accuracy: 1.0000\n",
      "Epoch 93/100\n",
      "2338/2338 - 1s - loss: 2.9259 - accuracy: 0.8986 - val_loss: 1.1746e-04 - val_accuracy: 1.0000\n",
      "Epoch 94/100\n",
      "2338/2338 - 0s - loss: 3.4698 - accuracy: 0.9046 - val_loss: 1.0798 - val_accuracy: 0.9577\n",
      "Epoch 95/100\n",
      "2338/2338 - 0s - loss: 3.3698 - accuracy: 0.9021 - val_loss: 3.1960e-05 - val_accuracy: 1.0000\n",
      "Epoch 96/100\n",
      "2338/2338 - 0s - loss: 2.8557 - accuracy: 0.8969 - val_loss: 3.2235e-05 - val_accuracy: 1.0000\n",
      "Epoch 97/100\n",
      "2338/2338 - 0s - loss: 4.0033 - accuracy: 0.9072 - val_loss: 1.4990 - val_accuracy: 0.9577\n",
      "Epoch 98/100\n",
      "2338/2338 - 0s - loss: 2.5802 - accuracy: 0.8978 - val_loss: 0.0267 - val_accuracy: 0.9846\n",
      "Epoch 99/100\n",
      "2338/2338 - 0s - loss: 2.7128 - accuracy: 0.8969 - val_loss: 3.2745e-04 - val_accuracy: 1.0000\n",
      "Epoch 100/100\n",
      "2338/2338 - 0s - loss: 3.8610 - accuracy: 0.8969 - val_loss: 0.7066 - val_accuracy: 0.9615\n"
     ]
    },
    {
     "data": {
      "text/plain": [
       "<tensorflow.python.keras.callbacks.History at 0x7f33e84354e0>"
      ]
     },
     "execution_count": 33,
     "metadata": {},
     "output_type": "execute_result"
    }
   ],
   "source": [
    "model.fit(\n",
    "    training_set, \n",
    "    target_set, \n",
    "    initial_epoch=0,\n",
    "    # initial_epoch=init_epoch-epoch_count,\n",
    "    epochs=100,\n",
    "    validation_split=0.1, \n",
    "    # batch_size=20, \n",
    "    verbose=2, \n",
    "    shuffle=True,\n",
    "    callbacks=callbacks, \n",
    ")"
   ]
  },
  {
   "cell_type": "raw",
   "metadata": {},
   "source": [
    "Get Weights"
   ]
  },
  {
   "cell_type": "code",
   "execution_count": null,
   "metadata": {},
   "outputs": [],
   "source": [
    "model.layers[0].get_weights()"
   ]
  },
  {
   "cell_type": "raw",
   "metadata": {},
   "source": [
    "Get output of model"
   ]
  },
  {
   "cell_type": "raw",
   "metadata": {},
   "source": [
    "Save Machine Learning Model"
   ]
  },
  {
   "cell_type": "code",
   "execution_count": 39,
   "metadata": {},
   "outputs": [
    {
     "name": "stdout",
     "output_type": "stream",
     "text": [
      "WARNING:tensorflow:From <ipython-input-39-4b237b8aad4b>:1: export_saved_model (from tensorflow.python.keras.saving.saved_model_experimental) is deprecated and will be removed in a future version.\n",
      "Instructions for updating:\n",
      "Please use `model.save(..., save_format=\"tf\")` or `tf.keras.models.save_model(..., save_format=\"tf\")`.\n",
      "WARNING:tensorflow:From /mnt/c/Users/Re/Documents/Projects/sdn_backend_v2/lib/python3.6/site-packages/tensorflow_core/python/ops/resource_variable_ops.py:1630: calling BaseResourceVariable.__init__ (from tensorflow.python.ops.resource_variable_ops) with constraint is deprecated and will be removed in a future version.\n",
      "Instructions for updating:\n",
      "If using Keras pass *_constraint arguments to layers.\n",
      "WARNING:tensorflow:From /mnt/c/Users/Re/Documents/Projects/sdn_backend_v2/lib/python3.6/site-packages/tensorflow_core/python/saved_model/signature_def_utils_impl.py:253: build_tensor_info (from tensorflow.python.saved_model.utils_impl) is deprecated and will be removed in a future version.\n",
      "Instructions for updating:\n",
      "This function will only be available through the v1 compatibility library as tf.compat.v1.saved_model.utils.build_tensor_info or tf.compat.v1.saved_model.build_tensor_info.\n",
      "INFO:tensorflow:Signatures INCLUDED in export for Classify: None\n",
      "INFO:tensorflow:Signatures INCLUDED in export for Regress: None\n",
      "INFO:tensorflow:Signatures INCLUDED in export for Predict: None\n",
      "INFO:tensorflow:Signatures INCLUDED in export for Train: ['train']\n",
      "INFO:tensorflow:Signatures INCLUDED in export for Eval: None\n",
      "WARNING:tensorflow:Export includes no default signature!\n",
      "INFO:tensorflow:No assets to save.\n",
      "INFO:tensorflow:No assets to write.\n",
      "INFO:tensorflow:Signatures INCLUDED in export for Classify: None\n",
      "INFO:tensorflow:Signatures INCLUDED in export for Regress: None\n",
      "INFO:tensorflow:Signatures INCLUDED in export for Predict: None\n",
      "INFO:tensorflow:Signatures INCLUDED in export for Train: None\n",
      "INFO:tensorflow:Signatures INCLUDED in export for Eval: ['eval']\n",
      "WARNING:tensorflow:Export includes no default signature!\n",
      "INFO:tensorflow:No assets to save.\n",
      "INFO:tensorflow:No assets to write.\n",
      "INFO:tensorflow:Signatures INCLUDED in export for Classify: None\n",
      "INFO:tensorflow:Signatures INCLUDED in export for Regress: None\n",
      "INFO:tensorflow:Signatures INCLUDED in export for Predict: ['serving_default']\n",
      "INFO:tensorflow:Signatures INCLUDED in export for Train: None\n",
      "INFO:tensorflow:Signatures INCLUDED in export for Eval: None\n",
      "INFO:tensorflow:No assets to save.\n",
      "INFO:tensorflow:No assets to write.\n",
      "INFO:tensorflow:SavedModel written to: best_model_v22019_10_20t21_32_39.h5/saved_model.pb\n"
     ]
    }
   ],
   "source": [
    "tf.keras.experimental.export_saved_model(model, 'best_model_v2' + modelStartedTime + '.h5')"
   ]
  },
  {
   "cell_type": "code",
   "execution_count": 37,
   "metadata": {},
   "outputs": [
    {
     "ename": "AttributeError",
     "evalue": "'Sequential' object has no attribute 'export_saved_model'",
     "output_type": "error",
     "traceback": [
      "\u001b[0;31m---------------------------------------------------------------------------\u001b[0m",
      "\u001b[0;31mAttributeError\u001b[0m                            Traceback (most recent call last)",
      "\u001b[0;32m<ipython-input-37-fdc1d60d4052>\u001b[0m in \u001b[0;36m<module>\u001b[0;34m\u001b[0m\n\u001b[0;32m----> 1\u001b[0;31m \u001b[0mmodel\u001b[0m\u001b[0;34m.\u001b[0m\u001b[0mexport_saved_model\u001b[0m\u001b[0;34m(\u001b[0m\u001b[0;34m'best_model_v2'\u001b[0m \u001b[0;34m+\u001b[0m \u001b[0mmodelStartedTime\u001b[0m \u001b[0;34m+\u001b[0m \u001b[0;34m'.h5'\u001b[0m\u001b[0;34m)\u001b[0m\u001b[0;34m\u001b[0m\u001b[0;34m\u001b[0m\u001b[0m\n\u001b[0m",
      "\u001b[0;31mAttributeError\u001b[0m: 'Sequential' object has no attribute 'export_saved_model'"
     ]
    }
   ],
   "source": [
    "model.export_saved_model('best_model_' + modelStartedTime + '.h5')"
   ]
  },
  {
   "cell_type": "code",
   "execution_count": 35,
   "metadata": {},
   "outputs": [],
   "source": [
    "loaded_model = tf.keras.models.load_model('best_model_2019_10_20t21_32_39.h5')"
   ]
  },
  {
   "cell_type": "code",
   "execution_count": 36,
   "metadata": {},
   "outputs": [
    {
     "name": "stdout",
     "output_type": "stream",
     "text": [
      "Model: \"sequential\"\n",
      "_________________________________________________________________\n",
      "Layer (type)                 Output Shape              Param #   \n",
      "=================================================================\n",
      "dense (Dense)                (None, 5)                 30        \n",
      "_________________________________________________________________\n",
      "dense_1 (Dense)              (None, 5)                 30        \n",
      "_________________________________________________________________\n",
      "dense_2 (Dense)              (None, 1)                 6         \n",
      "=================================================================\n",
      "Total params: 66\n",
      "Trainable params: 66\n",
      "Non-trainable params: 0\n",
      "_________________________________________________________________\n"
     ]
    }
   ],
   "source": [
    "loaded_model.summary()"
   ]
  },
  {
   "cell_type": "code",
   "execution_count": null,
   "metadata": {},
   "outputs": [],
   "source": []
  }
 ],
 "metadata": {
  "kernelspec": {
   "display_name": "Python 3",
   "language": "python",
   "name": "python3"
  },
  "language_info": {
   "codemirror_mode": {
    "name": "ipython",
    "version": 3
   },
   "file_extension": ".py",
   "mimetype": "text/x-python",
   "name": "python",
   "nbconvert_exporter": "python",
   "pygments_lexer": "ipython3",
   "version": "3.6.8"
  }
 },
 "nbformat": 4,
 "nbformat_minor": 2
}
