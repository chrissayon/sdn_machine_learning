{
 "cells": [
  {
   "cell_type": "markdown",
   "metadata": {},
   "source": [
    "Import Libraries"
   ]
  },
  {
   "cell_type": "code",
   "execution_count": 1,
   "metadata": {},
   "outputs": [],
   "source": [
    "import csv\n",
    "import numpy as np\n",
    "import tensorflow as tf\n",
    "import datetime\n",
    "import os\n",
    "from tensorflow.keras import backend as K"
   ]
  },
  {
   "cell_type": "raw",
   "metadata": {},
   "source": [
    "Load data"
   ]
  },
  {
   "cell_type": "code",
   "execution_count": 2,
   "metadata": {},
   "outputs": [],
   "source": [
    "attack_set_1_raw = np.genfromtxt('zodiac_attacked.csv', \n",
    "                             delimiter=',',\n",
    "                             skip_header=2)\n",
    "\n",
    "no_attack_set_1_raw = np.genfromtxt('zodiac_not_attacked.csv', \n",
    "                             delimiter=',',\n",
    "                             skip_header=2)"
   ]
  },
  {
   "cell_type": "raw",
   "metadata": {},
   "source": [
    "Clean up data (Remove flow count from data)"
   ]
  },
  {
   "cell_type": "code",
   "execution_count": 3,
   "metadata": {},
   "outputs": [],
   "source": [
    "attack_set_1 = np.take(attack_set_1_raw, [1,2,3,4,15], axis=1)\n",
    "no_attack_set_1 = np.take(no_attack_set_1_raw, [1,2,3,4,15], axis=1)\n",
    "training_set = np.concatenate((attack_set_1, no_attack_set_1), axis=0)"
   ]
  },
  {
   "cell_type": "code",
   "execution_count": 4,
   "metadata": {},
   "outputs": [
    {
     "data": {
      "text/plain": [
       "array([[8.14870000e+04, 0.00000000e+00, 5.71780000e+04, 7.68000000e+02,\n",
       "        1.00102465e+01],\n",
       "       [8.14740000e+04, 1.00000000e+00, 1.05392000e+05, 2.05100000e+03,\n",
       "        1.00103073e+01],\n",
       "       [8.17790000e+04, 1.00000000e+00, 9.68790000e+04, 1.85600000e+03,\n",
       "        1.00102484e+01],\n",
       "       ...,\n",
       "       [5.23820000e+04, 2.69710000e+04, 6.00320000e+04, 5.44960000e+04,\n",
       "        1.00103407e+01],\n",
       "       [5.21710000e+04, 2.65700000e+04, 8.84520000e+04, 2.30360000e+04,\n",
       "        1.00102460e+01],\n",
       "       [5.25490000e+04, 2.68910000e+04, 3.63240000e+04, 1.77220000e+04,\n",
       "        1.00103118e+01]])"
      ]
     },
     "execution_count": 4,
     "metadata": {},
     "output_type": "execute_result"
    }
   ],
   "source": [
    "attack_set_1"
   ]
  },
  {
   "cell_type": "raw",
   "metadata": {},
   "source": [
    "Create output data"
   ]
  },
  {
   "cell_type": "code",
   "execution_count": 5,
   "metadata": {},
   "outputs": [],
   "source": [
    "zeroes_set = np.zeros((len(no_attack_set_1),1))\n",
    "ones_set = np.ones((len(attack_set_1),1))\n",
    "target_set = np.concatenate((ones_set, zeroes_set), axis=0)"
   ]
  },
  {
   "cell_type": "raw",
   "metadata": {},
   "source": [
    "Create type of model"
   ]
  },
  {
   "cell_type": "code",
   "execution_count": 35,
   "metadata": {},
   "outputs": [],
   "source": [
    "# Default Model\n",
    "tf.keras.backend.clear_session()\n",
    "\n",
    "input_size = 5\n",
    "output_size = 1\n",
    "\n",
    "model = tf.keras.Sequential([\n",
    "    tf.keras.layers.Dense(\n",
    "        5, \n",
    "        activation='relu', \n",
    "        input_shape=(input_size,),\n",
    "        kernel_initializer='glorot_normal',\n",
    "    ),\n",
    "#     tf.keras.layers.Dense(\n",
    "#         5, \n",
    "#         activation='relu',\n",
    "#     ),\n",
    "    tf.keras.layers.Dense(1, activation='sigmoid'),\n",
    "])\n",
    "\n",
    "model.compile(optimizer=tf.keras.optimizers.Adam(), \n",
    "                loss='binary_crossentropy', \n",
    "                metrics=['accuracy'])"
   ]
  },
  {
   "cell_type": "raw",
   "metadata": {},
   "source": [
    "Callbacks for model customization"
   ]
  },
  {
   "cell_type": "code",
   "execution_count": 36,
   "metadata": {},
   "outputs": [],
   "source": [
    "modelStartedTime = datetime.datetime.now().strftime(\"%Y_%m_%dt%H_%M_%S\")\n",
    "\n",
    "log_dir = os.path.join(\n",
    "    \"logs\",\n",
    "    \"adam_optimizer\",\n",
    "    \"loss_binary_crossentropy\"\n",
    "    \"one_hidden_layer\",\n",
    "#   \"two_hidden_layers\",\n",
    "    \"validation_split_0D1\",\n",
    "    modelStartedTime,\n",
    ")\n",
    "\n",
    "# log_dir = os.path.join(\n",
    "#     \"logs\",\n",
    "#     \"test\",\n",
    "#     modelStartedTime,\n",
    "# )\n",
    "\n",
    "callbacks = [\n",
    "    # tf.keras.callbacks.EarlyStopping(patience=50, monitor='val_loss'),\n",
    "    tf.keras.callbacks.TensorBoard(\n",
    "        log_dir=log_dir,\n",
    "        \n",
    "        #update_freq='epoch'        \n",
    "    )\n",
    "]"
   ]
  },
  {
   "cell_type": "raw",
   "metadata": {},
   "source": [
    "Train Model"
   ]
  },
  {
   "cell_type": "code",
   "execution_count": 37,
   "metadata": {
    "scrolled": true
   },
   "outputs": [
    {
     "name": "stdout",
     "output_type": "stream",
     "text": [
      "Train on 2338 samples, validate on 260 samples\n",
      "Epoch 1/100\n",
      "2338/2338 - 1s - loss: 10027.3894 - accuracy: 0.6001 - val_loss: 7213.2402 - val_accuracy: 0.0000e+00\n",
      "Epoch 2/100\n",
      "2338/2338 - 0s - loss: 6298.3364 - accuracy: 0.5920 - val_loss: 4300.9075 - val_accuracy: 0.0000e+00\n",
      "Epoch 3/100\n",
      "2338/2338 - 0s - loss: 3107.5794 - accuracy: 0.5950 - val_loss: 1168.6799 - val_accuracy: 0.3385\n",
      "Epoch 4/100\n",
      "2338/2338 - 0s - loss: 599.6885 - accuracy: 0.7387 - val_loss: 1.2319 - val_accuracy: 0.8500\n",
      "Epoch 5/100\n",
      "2338/2338 - 0s - loss: 249.9726 - accuracy: 0.8452 - val_loss: 1.2340 - val_accuracy: 0.8500\n",
      "Epoch 6/100\n",
      "2338/2338 - 0s - loss: 183.8867 - accuracy: 0.8537 - val_loss: 3.1317 - val_accuracy: 0.7808\n",
      "Epoch 7/100\n",
      "2338/2338 - 0s - loss: 167.2915 - accuracy: 0.8636 - val_loss: 1.8706 - val_accuracy: 0.8154\n",
      "Epoch 8/100\n",
      "2338/2338 - 0s - loss: 154.1238 - accuracy: 0.8704 - val_loss: 1.3057 - val_accuracy: 0.8308\n",
      "Epoch 9/100\n",
      "2338/2338 - 0s - loss: 140.8570 - accuracy: 0.8725 - val_loss: 4.2487 - val_accuracy: 0.7692\n",
      "Epoch 10/100\n",
      "2338/2338 - 0s - loss: 128.9830 - accuracy: 0.8670 - val_loss: 2.8005 - val_accuracy: 0.8038\n",
      "Epoch 11/100\n",
      "2338/2338 - 0s - loss: 112.6092 - accuracy: 0.8738 - val_loss: 1.6649 - val_accuracy: 0.8154\n",
      "Epoch 12/100\n",
      "2338/2338 - 0s - loss: 98.3596 - accuracy: 0.8755 - val_loss: 0.4650 - val_accuracy: 0.9308\n",
      "Epoch 13/100\n",
      "2338/2338 - 0s - loss: 82.6835 - accuracy: 0.8755 - val_loss: 0.5252 - val_accuracy: 0.9038\n",
      "Epoch 14/100\n",
      "2338/2338 - 0s - loss: 61.8491 - accuracy: 0.8807 - val_loss: 0.8896 - val_accuracy: 0.8962\n",
      "Epoch 15/100\n",
      "2338/2338 - 0s - loss: 36.7757 - accuracy: 0.8764 - val_loss: 0.7662 - val_accuracy: 0.9000\n",
      "Epoch 16/100\n",
      "2338/2338 - 0s - loss: 24.4227 - accuracy: 0.8409 - val_loss: 0.3804 - val_accuracy: 0.9308\n",
      "Epoch 17/100\n",
      "2338/2338 - 0s - loss: 19.6130 - accuracy: 0.8516 - val_loss: 0.6946 - val_accuracy: 0.9000\n",
      "Epoch 18/100\n",
      "2338/2338 - 0s - loss: 15.0066 - accuracy: 0.8435 - val_loss: 0.5712 - val_accuracy: 0.9000\n",
      "Epoch 19/100\n",
      "2338/2338 - 0s - loss: 13.4334 - accuracy: 0.8366 - val_loss: 0.8701 - val_accuracy: 0.9000\n",
      "Epoch 20/100\n",
      "2338/2338 - 0s - loss: 12.4815 - accuracy: 0.8259 - val_loss: 0.5461 - val_accuracy: 0.9000\n",
      "Epoch 21/100\n",
      "2338/2338 - 0s - loss: 10.0098 - accuracy: 0.8328 - val_loss: 1.1011 - val_accuracy: 0.8308\n",
      "Epoch 22/100\n",
      "2338/2338 - 0s - loss: 8.4914 - accuracy: 0.8225 - val_loss: 0.4181 - val_accuracy: 0.9038\n",
      "Epoch 23/100\n",
      "2338/2338 - 0s - loss: 7.6217 - accuracy: 0.8229 - val_loss: 0.2840 - val_accuracy: 0.9192\n",
      "Epoch 24/100\n",
      "2338/2338 - 0s - loss: 7.1609 - accuracy: 0.8152 - val_loss: 0.5833 - val_accuracy: 0.9115\n",
      "Epoch 25/100\n",
      "2338/2338 - 0s - loss: 4.7958 - accuracy: 0.8216 - val_loss: 0.5874 - val_accuracy: 0.9115\n",
      "Epoch 26/100\n",
      "2338/2338 - 0s - loss: 5.1333 - accuracy: 0.8144 - val_loss: 2.5384 - val_accuracy: 0.8154\n",
      "Epoch 27/100\n",
      "2338/2338 - 0s - loss: 7.5716 - accuracy: 0.8152 - val_loss: 0.3284 - val_accuracy: 0.9154\n",
      "Epoch 28/100\n",
      "2338/2338 - 0s - loss: 5.4093 - accuracy: 0.8229 - val_loss: 0.1921 - val_accuracy: 0.9769\n",
      "Epoch 29/100\n",
      "2338/2338 - 0s - loss: 3.3117 - accuracy: 0.8028 - val_loss: 0.6204 - val_accuracy: 0.9115\n",
      "Epoch 30/100\n",
      "2338/2338 - 0s - loss: 5.4786 - accuracy: 0.8088 - val_loss: 0.8359 - val_accuracy: 0.9115\n",
      "Epoch 31/100\n",
      "2338/2338 - 0s - loss: 3.0335 - accuracy: 0.8118 - val_loss: 0.1813 - val_accuracy: 0.9962\n",
      "Epoch 32/100\n",
      "2338/2338 - 0s - loss: 1.9215 - accuracy: 0.8028 - val_loss: 0.3416 - val_accuracy: 0.9692\n",
      "Epoch 33/100\n",
      "2338/2338 - 0s - loss: 1.8586 - accuracy: 0.8336 - val_loss: 0.5419 - val_accuracy: 0.9654\n",
      "Epoch 34/100\n",
      "2338/2338 - 0s - loss: 2.1749 - accuracy: 0.8186 - val_loss: 0.6255 - val_accuracy: 0.9654\n",
      "Epoch 35/100\n",
      "2338/2338 - 0s - loss: 3.3503 - accuracy: 0.8135 - val_loss: 0.6472 - val_accuracy: 0.9654\n",
      "Epoch 36/100\n",
      "2338/2338 - 0s - loss: 2.9779 - accuracy: 0.8127 - val_loss: 0.1508 - val_accuracy: 0.9962\n",
      "Epoch 37/100\n",
      "2338/2338 - 0s - loss: 2.3059 - accuracy: 0.8092 - val_loss: 1.3845 - val_accuracy: 0.8846\n",
      "Epoch 38/100\n",
      "2338/2338 - 0s - loss: 1.4812 - accuracy: 0.8148 - val_loss: 0.4410 - val_accuracy: 0.9654\n",
      "Epoch 39/100\n",
      "2338/2338 - 0s - loss: 1.3479 - accuracy: 0.8191 - val_loss: 0.1220 - val_accuracy: 0.9962\n",
      "Epoch 40/100\n",
      "2338/2338 - 0s - loss: 1.5472 - accuracy: 0.8114 - val_loss: 0.1160 - val_accuracy: 0.9962\n",
      "Epoch 41/100\n",
      "2338/2338 - 0s - loss: 1.0741 - accuracy: 0.8276 - val_loss: 0.4941 - val_accuracy: 0.9654\n",
      "Epoch 42/100\n",
      "2338/2338 - 0s - loss: 2.3791 - accuracy: 0.7857 - val_loss: 0.3703 - val_accuracy: 0.9654\n",
      "Epoch 43/100\n",
      "2338/2338 - 0s - loss: 1.3978 - accuracy: 0.8161 - val_loss: 0.1126 - val_accuracy: 0.9885\n",
      "Epoch 44/100\n",
      "2338/2338 - 0s - loss: 1.5766 - accuracy: 0.8139 - val_loss: 0.1792 - val_accuracy: 0.9692\n",
      "Epoch 45/100\n",
      "2338/2338 - 0s - loss: 1.8588 - accuracy: 0.8281 - val_loss: 0.1958 - val_accuracy: 0.9692\n",
      "Epoch 46/100\n",
      "2338/2338 - 0s - loss: 2.8404 - accuracy: 0.8161 - val_loss: 0.0858 - val_accuracy: 0.9962\n",
      "Epoch 47/100\n",
      "2338/2338 - 0s - loss: 1.0021 - accuracy: 0.8182 - val_loss: 0.0971 - val_accuracy: 0.9885\n",
      "Epoch 48/100\n",
      "2338/2338 - 0s - loss: 1.7100 - accuracy: 0.8088 - val_loss: 0.0748 - val_accuracy: 0.9962\n",
      "Epoch 49/100\n",
      "2338/2338 - 0s - loss: 1.0134 - accuracy: 0.8272 - val_loss: 0.3482 - val_accuracy: 0.9654\n",
      "Epoch 50/100\n",
      "2338/2338 - 0s - loss: 0.5880 - accuracy: 0.8464 - val_loss: 0.5216 - val_accuracy: 0.9654\n",
      "Epoch 51/100\n",
      "2338/2338 - 0s - loss: 2.2098 - accuracy: 0.8165 - val_loss: 0.0937 - val_accuracy: 0.9731\n",
      "Epoch 52/100\n",
      "2338/2338 - 0s - loss: 1.6157 - accuracy: 0.8152 - val_loss: 0.0559 - val_accuracy: 0.9962\n",
      "Epoch 53/100\n",
      "2338/2338 - 0s - loss: 1.3522 - accuracy: 0.8328 - val_loss: 0.0406 - val_accuracy: 0.9962\n",
      "Epoch 54/100\n",
      "2338/2338 - 0s - loss: 1.2315 - accuracy: 0.8486 - val_loss: 0.0350 - val_accuracy: 0.9962\n",
      "Epoch 55/100\n",
      "2338/2338 - 0s - loss: 4.1218 - accuracy: 0.7998 - val_loss: 0.8108 - val_accuracy: 0.9538\n",
      "Epoch 56/100\n",
      "2338/2338 - 0s - loss: 1.0214 - accuracy: 0.8276 - val_loss: 0.2657 - val_accuracy: 0.9692\n",
      "Epoch 57/100\n",
      "2338/2338 - 0s - loss: 1.7762 - accuracy: 0.8186 - val_loss: 0.0119 - val_accuracy: 1.0000\n",
      "Epoch 58/100\n",
      "2338/2338 - 0s - loss: 1.5118 - accuracy: 0.8131 - val_loss: 0.6028 - val_accuracy: 0.9654\n",
      "Epoch 59/100\n",
      "2338/2338 - 0s - loss: 0.7938 - accuracy: 0.8319 - val_loss: 0.5398 - val_accuracy: 0.9654\n",
      "Epoch 60/100\n",
      "2338/2338 - 0s - loss: 2.9103 - accuracy: 0.8336 - val_loss: 0.0856 - val_accuracy: 0.9731\n",
      "Epoch 61/100\n",
      "2338/2338 - 0s - loss: 3.7438 - accuracy: 0.8251 - val_loss: 0.2150 - val_accuracy: 0.9731\n",
      "Epoch 62/100\n",
      "2338/2338 - 0s - loss: 0.7539 - accuracy: 0.8499 - val_loss: 0.1260 - val_accuracy: 0.9731\n",
      "Epoch 63/100\n",
      "2338/2338 - 0s - loss: 1.4163 - accuracy: 0.8430 - val_loss: 0.1665 - val_accuracy: 0.9731\n",
      "Epoch 64/100\n",
      "2338/2338 - 0s - loss: 2.6165 - accuracy: 0.8242 - val_loss: 0.8687 - val_accuracy: 0.9577\n",
      "Epoch 65/100\n",
      "2338/2338 - 0s - loss: 2.8178 - accuracy: 0.8340 - val_loss: 0.0065 - val_accuracy: 1.0000\n",
      "Epoch 66/100\n",
      "2338/2338 - 0s - loss: 2.4718 - accuracy: 0.8263 - val_loss: 0.0041 - val_accuracy: 1.0000\n",
      "Epoch 67/100\n",
      "2338/2338 - 0s - loss: 1.6478 - accuracy: 0.8379 - val_loss: 0.5769 - val_accuracy: 0.9692\n",
      "Epoch 68/100\n",
      "2338/2338 - 0s - loss: 1.5082 - accuracy: 0.8336 - val_loss: 0.0164 - val_accuracy: 0.9962\n",
      "Epoch 69/100\n",
      "2338/2338 - 0s - loss: 0.7234 - accuracy: 0.8554 - val_loss: 1.1716 - val_accuracy: 0.9577\n",
      "Epoch 70/100\n",
      "2338/2338 - 0s - loss: 1.6227 - accuracy: 0.8366 - val_loss: 0.0046 - val_accuracy: 1.0000\n",
      "Epoch 71/100\n",
      "2338/2338 - 0s - loss: 0.8817 - accuracy: 0.8285 - val_loss: 0.0044 - val_accuracy: 1.0000\n",
      "Epoch 72/100\n",
      "2338/2338 - 0s - loss: 0.8755 - accuracy: 0.8537 - val_loss: 0.2248 - val_accuracy: 0.9731\n",
      "Epoch 73/100\n",
      "2338/2338 - 0s - loss: 1.9617 - accuracy: 0.8182 - val_loss: 0.0030 - val_accuracy: 1.0000\n",
      "Epoch 74/100\n",
      "2338/2338 - 0s - loss: 0.7310 - accuracy: 0.8456 - val_loss: 1.3767 - val_accuracy: 0.9577\n",
      "Epoch 75/100\n",
      "2338/2338 - 0s - loss: 1.1034 - accuracy: 0.8375 - val_loss: 0.1424 - val_accuracy: 0.9731\n",
      "Epoch 76/100\n",
      "2338/2338 - 0s - loss: 1.0037 - accuracy: 0.8332 - val_loss: 0.6959 - val_accuracy: 0.9654\n",
      "Epoch 77/100\n",
      "2338/2338 - 0s - loss: 1.4337 - accuracy: 0.8435 - val_loss: 0.0016 - val_accuracy: 1.0000\n",
      "Epoch 78/100\n",
      "2338/2338 - 0s - loss: 0.9228 - accuracy: 0.8550 - val_loss: 0.1643 - val_accuracy: 0.9731\n"
     ]
    },
    {
     "name": "stdout",
     "output_type": "stream",
     "text": [
      "Epoch 79/100\n",
      "2338/2338 - 0s - loss: 1.2289 - accuracy: 0.8379 - val_loss: 0.0901 - val_accuracy: 0.9731\n",
      "Epoch 80/100\n",
      "2338/2338 - 0s - loss: 1.8871 - accuracy: 0.8263 - val_loss: 0.5389 - val_accuracy: 0.9692\n",
      "Epoch 81/100\n",
      "2338/2338 - 0s - loss: 0.9560 - accuracy: 0.8456 - val_loss: 0.0015 - val_accuracy: 1.0000\n",
      "Epoch 82/100\n",
      "2338/2338 - 0s - loss: 1.3854 - accuracy: 0.8452 - val_loss: 0.0013 - val_accuracy: 1.0000\n",
      "Epoch 83/100\n",
      "2338/2338 - 0s - loss: 0.6444 - accuracy: 0.8529 - val_loss: 0.0015 - val_accuracy: 1.0000\n",
      "Epoch 84/100\n",
      "2338/2338 - 0s - loss: 0.6602 - accuracy: 0.8614 - val_loss: 1.2806 - val_accuracy: 0.9577\n",
      "Epoch 85/100\n",
      "2338/2338 - 0s - loss: 0.5915 - accuracy: 0.8559 - val_loss: 0.1240 - val_accuracy: 0.9731\n",
      "Epoch 86/100\n",
      "2338/2338 - 0s - loss: 1.0670 - accuracy: 0.8435 - val_loss: 0.0010 - val_accuracy: 1.0000\n",
      "Epoch 87/100\n",
      "2338/2338 - 0s - loss: 0.6477 - accuracy: 0.8730 - val_loss: 1.2086 - val_accuracy: 0.9577\n",
      "Epoch 88/100\n",
      "2338/2338 - 0s - loss: 0.6463 - accuracy: 0.8670 - val_loss: 9.5030e-04 - val_accuracy: 1.0000\n",
      "Epoch 89/100\n",
      "2338/2338 - 0s - loss: 1.3768 - accuracy: 0.8323 - val_loss: 0.5843 - val_accuracy: 0.9692\n",
      "Epoch 90/100\n",
      "2338/2338 - 0s - loss: 2.2408 - accuracy: 0.8323 - val_loss: 0.7754 - val_accuracy: 0.9577\n",
      "Epoch 91/100\n",
      "2338/2338 - 0s - loss: 0.6689 - accuracy: 0.8482 - val_loss: 0.0992 - val_accuracy: 0.9731\n",
      "Epoch 92/100\n",
      "2338/2338 - 0s - loss: 0.6830 - accuracy: 0.8550 - val_loss: 0.5261 - val_accuracy: 0.9692\n",
      "Epoch 93/100\n",
      "2338/2338 - 0s - loss: 0.5059 - accuracy: 0.8717 - val_loss: 7.5148e-04 - val_accuracy: 1.0000\n",
      "Epoch 94/100\n",
      "2338/2338 - 0s - loss: 2.2832 - accuracy: 0.8246 - val_loss: 0.0066 - val_accuracy: 1.0000\n",
      "Epoch 95/100\n",
      "2338/2338 - 0s - loss: 1.1921 - accuracy: 0.8473 - val_loss: 0.2324 - val_accuracy: 0.9731\n",
      "Epoch 96/100\n",
      "2338/2338 - 0s - loss: 0.4528 - accuracy: 0.8824 - val_loss: 0.0359 - val_accuracy: 0.9769\n",
      "Epoch 97/100\n",
      "2338/2338 - 0s - loss: 0.4881 - accuracy: 0.8781 - val_loss: 0.4410 - val_accuracy: 0.9731\n",
      "Epoch 98/100\n",
      "2338/2338 - 0s - loss: 0.6739 - accuracy: 0.8554 - val_loss: 0.4667 - val_accuracy: 0.9731\n",
      "Epoch 99/100\n",
      "2338/2338 - 0s - loss: 1.4825 - accuracy: 0.8370 - val_loss: 0.7102 - val_accuracy: 0.9577\n",
      "Epoch 100/100\n",
      "2338/2338 - 0s - loss: 0.7865 - accuracy: 0.8738 - val_loss: 1.4849 - val_accuracy: 0.9577\n"
     ]
    },
    {
     "data": {
      "text/plain": [
       "<tensorflow.python.keras.callbacks.History at 0x7fba2e684470>"
      ]
     },
     "execution_count": 37,
     "metadata": {},
     "output_type": "execute_result"
    }
   ],
   "source": [
    "model.fit(\n",
    "    training_set, \n",
    "    target_set, \n",
    "    initial_epoch=0,\n",
    "    # initial_epoch=init_epoch-epoch_count,\n",
    "    epochs=100,\n",
    "    validation_split=0.1, \n",
    "    # batch_size=20, \n",
    "    verbose=2, \n",
    "    shuffle=True,\n",
    "    callbacks=callbacks, \n",
    ")"
   ]
  },
  {
   "cell_type": "code",
   "execution_count": 38,
   "metadata": {},
   "outputs": [],
   "source": [
    "model.save('port_model.h5')"
   ]
  },
  {
   "cell_type": "raw",
   "metadata": {},
   "source": [
    "Get Weights"
   ]
  },
  {
   "cell_type": "code",
   "execution_count": 9,
   "metadata": {},
   "outputs": [
    {
     "data": {
      "text/plain": [
       "[array([[ 0.12517838, -0.03866845, -0.20502004, -0.75644237, -0.14499573],\n",
       "        [-0.19907333, -0.6377549 ,  0.41524097, -0.4151665 , -0.3867644 ],\n",
       "        [ 0.51228166, -0.16080315,  0.34544232,  0.06832434, -0.27374703],\n",
       "        [ 0.33012253, -0.7053988 ,  0.21261647, -0.65571713,  0.9632727 ],\n",
       "        [ 0.15257913,  0.05354644,  0.7596836 , -0.13905106, -0.12730189]],\n",
       "       dtype=float32),\n",
       " array([-0.22902527,  0.        ,  0.3487387 ,  0.        ,  0.37249017],\n",
       "       dtype=float32)]"
      ]
     },
     "execution_count": 9,
     "metadata": {},
     "output_type": "execute_result"
    }
   ],
   "source": [
    "model.layers[0].get_weights()"
   ]
  },
  {
   "cell_type": "raw",
   "metadata": {},
   "source": [
    "Get output of model"
   ]
  },
  {
   "cell_type": "raw",
   "metadata": {},
   "source": [
    "Save Machine Learning Model"
   ]
  },
  {
   "cell_type": "code",
   "execution_count": 19,
   "metadata": {},
   "outputs": [
    {
     "name": "stdout",
     "output_type": "stream",
     "text": [
      "WARNING:tensorflow:From <ipython-input-19-4b237b8aad4b>:1: export_saved_model (from tensorflow.python.keras.saving.saved_model_experimental) is deprecated and will be removed in a future version.\n",
      "Instructions for updating:\n",
      "Please use `model.save(..., save_format=\"tf\")` or `tf.keras.models.save_model(..., save_format=\"tf\")`.\n",
      "WARNING:tensorflow:From /home/mint/Desktop/sdn_backend/lib/python3.6/site-packages/tensorflow_core/python/ops/resource_variable_ops.py:1630: calling BaseResourceVariable.__init__ (from tensorflow.python.ops.resource_variable_ops) with constraint is deprecated and will be removed in a future version.\n",
      "Instructions for updating:\n",
      "If using Keras pass *_constraint arguments to layers.\n",
      "WARNING:tensorflow:From /home/mint/Desktop/sdn_backend/lib/python3.6/site-packages/tensorflow_core/python/saved_model/signature_def_utils_impl.py:253: build_tensor_info (from tensorflow.python.saved_model.utils_impl) is deprecated and will be removed in a future version.\n",
      "Instructions for updating:\n",
      "This function will only be available through the v1 compatibility library as tf.compat.v1.saved_model.utils.build_tensor_info or tf.compat.v1.saved_model.build_tensor_info.\n",
      "INFO:tensorflow:Signatures INCLUDED in export for Classify: None\n",
      "INFO:tensorflow:Signatures INCLUDED in export for Regress: None\n",
      "INFO:tensorflow:Signatures INCLUDED in export for Predict: None\n",
      "INFO:tensorflow:Signatures INCLUDED in export for Train: ['train']\n",
      "INFO:tensorflow:Signatures INCLUDED in export for Eval: None\n",
      "WARNING:tensorflow:Export includes no default signature!\n",
      "INFO:tensorflow:No assets to save.\n",
      "INFO:tensorflow:No assets to write.\n",
      "INFO:tensorflow:Signatures INCLUDED in export for Classify: None\n",
      "INFO:tensorflow:Signatures INCLUDED in export for Regress: None\n",
      "INFO:tensorflow:Signatures INCLUDED in export for Predict: None\n",
      "INFO:tensorflow:Signatures INCLUDED in export for Train: None\n",
      "INFO:tensorflow:Signatures INCLUDED in export for Eval: ['eval']\n",
      "WARNING:tensorflow:Export includes no default signature!\n",
      "INFO:tensorflow:No assets to save.\n",
      "INFO:tensorflow:No assets to write.\n",
      "INFO:tensorflow:Signatures INCLUDED in export for Classify: None\n",
      "INFO:tensorflow:Signatures INCLUDED in export for Regress: None\n",
      "INFO:tensorflow:Signatures INCLUDED in export for Predict: ['serving_default']\n",
      "INFO:tensorflow:Signatures INCLUDED in export for Train: None\n",
      "INFO:tensorflow:Signatures INCLUDED in export for Eval: None\n",
      "INFO:tensorflow:No assets to save.\n",
      "INFO:tensorflow:No assets to write.\n",
      "INFO:tensorflow:SavedModel written to: best_model_v22019_10_20t23_32_53.h5/saved_model.pb\n"
     ]
    }
   ],
   "source": [
    "tf.keras.experimental.export_saved_model(model, 'best_model_v2' + modelStartedTime + '.h5')"
   ]
  },
  {
   "cell_type": "code",
   "execution_count": 26,
   "metadata": {},
   "outputs": [],
   "source": [
    "model.save('port_model.h5')"
   ]
  },
  {
   "cell_type": "code",
   "execution_count": 35,
   "metadata": {},
   "outputs": [],
   "source": [
    "loaded_model = tf.keras.models.load_model('best_model_2019_10_20t21_32_39.h5')"
   ]
  },
  {
   "cell_type": "code",
   "execution_count": 36,
   "metadata": {},
   "outputs": [
    {
     "name": "stdout",
     "output_type": "stream",
     "text": [
      "Model: \"sequential\"\n",
      "_________________________________________________________________\n",
      "Layer (type)                 Output Shape              Param #   \n",
      "=================================================================\n",
      "dense (Dense)                (None, 5)                 30        \n",
      "_________________________________________________________________\n",
      "dense_1 (Dense)              (None, 5)                 30        \n",
      "_________________________________________________________________\n",
      "dense_2 (Dense)              (None, 1)                 6         \n",
      "=================================================================\n",
      "Total params: 66\n",
      "Trainable params: 66\n",
      "Non-trainable params: 0\n",
      "_________________________________________________________________\n"
     ]
    }
   ],
   "source": [
    "loaded_model.summary()"
   ]
  },
  {
   "cell_type": "code",
   "execution_count": null,
   "metadata": {},
   "outputs": [],
   "source": []
  }
 ],
 "metadata": {
  "kernelspec": {
   "display_name": "Python 3",
   "language": "python",
   "name": "python3"
  },
  "language_info": {
   "codemirror_mode": {
    "name": "ipython",
    "version": 3
   },
   "file_extension": ".py",
   "mimetype": "text/x-python",
   "name": "python",
   "nbconvert_exporter": "python",
   "pygments_lexer": "ipython3",
   "version": "3.6.8"
  }
 },
 "nbformat": 4,
 "nbformat_minor": 2
}
