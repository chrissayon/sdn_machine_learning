{
 "cells": [
  {
   "cell_type": "markdown",
   "metadata": {},
   "source": [
    "Import Libraries"
   ]
  },
  {
   "cell_type": "code",
   "execution_count": 22,
   "metadata": {},
   "outputs": [],
   "source": [
    "import csv\n",
    "import numpy as np\n",
    "import tensorflow as tf\n",
    "import datetime\n",
    "import os\n",
    "from tensorflow.keras import backend as K"
   ]
  },
  {
   "cell_type": "raw",
   "metadata": {},
   "source": [
    "Load data"
   ]
  },
  {
   "cell_type": "code",
   "execution_count": 23,
   "metadata": {},
   "outputs": [],
   "source": [
    "attack_set_1_raw = np.genfromtxt('zodiac_attacked.csv', \n",
    "                             delimiter=',',\n",
    "                             skip_header=2)\n",
    "\n",
    "no_attack_set_1_raw = np.genfromtxt('zodiac_not_attacked.csv', \n",
    "                             delimiter=',',\n",
    "                             skip_header=2)"
   ]
  },
  {
   "cell_type": "raw",
   "metadata": {},
   "source": [
    "Clean up data (Remove flow count from data)"
   ]
  },
  {
   "cell_type": "code",
   "execution_count": 24,
   "metadata": {},
   "outputs": [],
   "source": [
    "attack_set_1 = np.take(attack_set_1_raw, [1,2,3,4,15], axis=1)\n",
    "no_attack_set_1 = np.take(no_attack_set_1_raw, [1,2,3,4,15], axis=1)\n",
    "training_set = np.concatenate((attack_set_1, no_attack_set_1), axis=0)"
   ]
  },
  {
   "cell_type": "code",
   "execution_count": 25,
   "metadata": {},
   "outputs": [
    {
     "data": {
      "text/plain": [
       "array([[8.14870000e+04, 0.00000000e+00, 5.71780000e+04, 7.68000000e+02,\n",
       "        1.00102465e+01],\n",
       "       [8.14740000e+04, 1.00000000e+00, 1.05392000e+05, 2.05100000e+03,\n",
       "        1.00103073e+01],\n",
       "       [8.17790000e+04, 1.00000000e+00, 9.68790000e+04, 1.85600000e+03,\n",
       "        1.00102484e+01],\n",
       "       ...,\n",
       "       [6.99800000e+04, 3.59970000e+04, 1.60586000e+05, 8.39640000e+04,\n",
       "        1.60787587e+01],\n",
       "       [4.36540000e+04, 2.25640000e+04, 1.11658000e+05, 6.29430000e+04,\n",
       "        1.00102639e+01],\n",
       "       [4.36570000e+04, 2.24550000e+04, 1.43600000e+04, 3.49860000e+04,\n",
       "        1.00103202e+01]])"
      ]
     },
     "execution_count": 25,
     "metadata": {},
     "output_type": "execute_result"
    }
   ],
   "source": [
    "attack_set_1"
   ]
  },
  {
   "cell_type": "raw",
   "metadata": {},
   "source": [
    "Create output data"
   ]
  },
  {
   "cell_type": "code",
   "execution_count": 26,
   "metadata": {},
   "outputs": [],
   "source": [
    "zeroes_set = np.zeros((len(no_attack_set_1),1))\n",
    "ones_set = np.ones((len(attack_set_1),1))\n",
    "target_set = np.concatenate((ones_set, zeroes_set), axis=0)"
   ]
  },
  {
   "cell_type": "raw",
   "metadata": {},
   "source": [
    "Create type of model"
   ]
  },
  {
   "cell_type": "code",
   "execution_count": 54,
   "metadata": {},
   "outputs": [],
   "source": [
    "# Default Model\n",
    "tf.keras.backend.clear_session()\n",
    "\n",
    "input_size = 5\n",
    "output_size = 1\n",
    "\n",
    "model = tf.keras.Sequential([\n",
    "    tf.keras.layers.Dense(\n",
    "        5, \n",
    "        activation='relu', \n",
    "        input_shape=(input_size,),\n",
    "        kernel_initializer='glorot_normal',\n",
    "    ),\n",
    "#     tf.keras.layers.Dense(\n",
    "#         5, \n",
    "#         activation='relu',\n",
    "#     ),\n",
    "    tf.keras.layers.Dense(1, activation='sigmoid'),\n",
    "])\n",
    "\n",
    "model.compile(optimizer=tf.keras.optimizers.Adam(), \n",
    "                loss='binary_crossentropy', \n",
    "                metrics=['accuracy'])"
   ]
  },
  {
   "cell_type": "raw",
   "metadata": {},
   "source": [
    "Callbacks for model customization"
   ]
  },
  {
   "cell_type": "code",
   "execution_count": 55,
   "metadata": {},
   "outputs": [],
   "source": [
    "modelStartedTime = datetime.datetime.now().strftime(\"%Y_%m_%dt%H_%M_%S\")\n",
    "\n",
    "log_dir = os.path.join(\n",
    "    \"logs\",\n",
    "    \"adam_optimizer\",\n",
    "    \"loss_binary_crossentropy\"\n",
    "    \"one_hidden_layer\",\n",
    "    # \"two_hidden_layers\",\n",
    "    \"validation_split_0D1\",\n",
    "    modelStartedTime,\n",
    ")\n",
    "\n",
    "# log_dir = os.path.join(\n",
    "#     \"logs\",\n",
    "#     \"test\",\n",
    "#     modelStartedTime,\n",
    "# )\n",
    "\n",
    "callbacks = [\n",
    "    # tf.keras.callbacks.EarlyStopping(patience=50, monitor='val_loss'),\n",
    "    tf.keras.callbacks.TensorBoard(\n",
    "        log_dir=log_dir,\n",
    "        \n",
    "        #update_freq='epoch'        \n",
    "    )\n",
    "]"
   ]
  },
  {
   "cell_type": "raw",
   "metadata": {},
   "source": [
    "Train Model"
   ]
  },
  {
   "cell_type": "code",
   "execution_count": 56,
   "metadata": {},
   "outputs": [
    {
     "name": "stdout",
     "output_type": "stream",
     "text": [
      "Train on 1392 samples, validate on 155 samples\n",
      "Epoch 1/100\n",
      "1392/1392 - 0s - loss: 2970.2091 - accuracy: 0.3966 - val_loss: 2272.7146 - val_accuracy: 0.0000e+00\n",
      "Epoch 2/100\n",
      "1392/1392 - 0s - loss: 1833.7037 - accuracy: 0.4562 - val_loss: 658.7069 - val_accuracy: 0.0000e+00\n",
      "Epoch 3/100\n",
      "1392/1392 - 0s - loss: 1186.3682 - accuracy: 0.5761 - val_loss: 38.5742 - val_accuracy: 0.0000e+00\n",
      "Epoch 4/100\n",
      "1392/1392 - 0s - loss: 904.4587 - accuracy: 0.5991 - val_loss: 2.0027 - val_accuracy: 0.0000e+00\n",
      "Epoch 5/100\n",
      "1392/1392 - 0s - loss: 694.6408 - accuracy: 0.6114 - val_loss: 1.9017 - val_accuracy: 0.0000e+00\n",
      "Epoch 6/100\n",
      "1392/1392 - 0s - loss: 528.1354 - accuracy: 0.6178 - val_loss: 1.8254 - val_accuracy: 0.0000e+00\n",
      "Epoch 7/100\n",
      "1392/1392 - 0s - loss: 393.7735 - accuracy: 0.6293 - val_loss: 1.7632 - val_accuracy: 0.0000e+00\n",
      "Epoch 8/100\n",
      "1392/1392 - 0s - loss: 280.7203 - accuracy: 0.6473 - val_loss: 1.7318 - val_accuracy: 0.1548\n",
      "Epoch 9/100\n",
      "1392/1392 - 0s - loss: 202.3621 - accuracy: 0.7155 - val_loss: 1.7195 - val_accuracy: 0.1548\n",
      "Epoch 10/100\n",
      "1392/1392 - 0s - loss: 151.3059 - accuracy: 0.7284 - val_loss: 1.7169 - val_accuracy: 0.1548\n",
      "Epoch 11/100\n",
      "1392/1392 - 0s - loss: 110.9773 - accuracy: 0.7407 - val_loss: 1.7206 - val_accuracy: 0.1548\n",
      "Epoch 12/100\n",
      "1392/1392 - 0s - loss: 83.8766 - accuracy: 0.7579 - val_loss: 1.7283 - val_accuracy: 0.1548\n",
      "Epoch 13/100\n",
      "1392/1392 - 0s - loss: 68.1830 - accuracy: 0.7708 - val_loss: 1.7363 - val_accuracy: 0.1548\n",
      "Epoch 14/100\n",
      "1392/1392 - 0s - loss: 58.4347 - accuracy: 0.7802 - val_loss: 1.7454 - val_accuracy: 0.1548\n",
      "Epoch 15/100\n",
      "1392/1392 - 0s - loss: 51.3323 - accuracy: 0.7830 - val_loss: 1.7573 - val_accuracy: 0.1548\n",
      "Epoch 16/100\n",
      "1392/1392 - 0s - loss: 45.1932 - accuracy: 0.7845 - val_loss: 1.7677 - val_accuracy: 0.1548\n",
      "Epoch 17/100\n",
      "1392/1392 - 0s - loss: 39.4260 - accuracy: 0.7852 - val_loss: 1.7794 - val_accuracy: 0.1548\n",
      "Epoch 18/100\n",
      "1392/1392 - 0s - loss: 33.7778 - accuracy: 0.7859 - val_loss: 1.7914 - val_accuracy: 0.1548\n",
      "Epoch 19/100\n",
      "1392/1392 - 0s - loss: 28.2463 - accuracy: 0.7859 - val_loss: 1.8024 - val_accuracy: 0.1548\n",
      "Epoch 20/100\n",
      "1392/1392 - 0s - loss: 22.5832 - accuracy: 0.7859 - val_loss: 1.8147 - val_accuracy: 0.1548\n",
      "Epoch 21/100\n",
      "1392/1392 - 0s - loss: 17.1890 - accuracy: 0.7881 - val_loss: 1.8261 - val_accuracy: 0.1548\n",
      "Epoch 22/100\n",
      "1392/1392 - 0s - loss: 12.3350 - accuracy: 0.7895 - val_loss: 1.8370 - val_accuracy: 0.1548\n",
      "Epoch 23/100\n",
      "1392/1392 - 0s - loss: 8.6573 - accuracy: 0.7960 - val_loss: 1.8486 - val_accuracy: 0.1548\n",
      "Epoch 24/100\n",
      "1392/1392 - 0s - loss: 6.1578 - accuracy: 0.7967 - val_loss: 1.8587 - val_accuracy: 0.1548\n",
      "Epoch 25/100\n",
      "1392/1392 - 0s - loss: 4.3780 - accuracy: 0.8046 - val_loss: 1.8684 - val_accuracy: 0.1548\n",
      "Epoch 26/100\n",
      "1392/1392 - 0s - loss: 3.5732 - accuracy: 0.8046 - val_loss: 1.8784 - val_accuracy: 0.1548\n",
      "Epoch 27/100\n",
      "1392/1392 - 0s - loss: 2.8436 - accuracy: 0.8046 - val_loss: 1.8881 - val_accuracy: 0.1548\n",
      "Epoch 28/100\n",
      "1392/1392 - 0s - loss: 2.1458 - accuracy: 0.8068 - val_loss: 1.8978 - val_accuracy: 0.1548\n",
      "Epoch 29/100\n",
      "1392/1392 - 0s - loss: 1.7171 - accuracy: 0.8082 - val_loss: 1.9056 - val_accuracy: 0.1548\n",
      "Epoch 30/100\n",
      "1392/1392 - 0s - loss: 1.5258 - accuracy: 0.8132 - val_loss: 1.9137 - val_accuracy: 0.1548\n",
      "Epoch 31/100\n",
      "1392/1392 - 0s - loss: 1.5179 - accuracy: 0.8132 - val_loss: 1.9207 - val_accuracy: 0.1548\n",
      "Epoch 32/100\n",
      "1392/1392 - 0s - loss: 1.5102 - accuracy: 0.8132 - val_loss: 1.9294 - val_accuracy: 0.1548\n",
      "Epoch 33/100\n",
      "1392/1392 - 0s - loss: 1.5029 - accuracy: 0.8132 - val_loss: 1.9361 - val_accuracy: 0.1548\n",
      "Epoch 34/100\n",
      "1392/1392 - 0s - loss: 1.4946 - accuracy: 0.8132 - val_loss: 1.9423 - val_accuracy: 0.1548\n",
      "Epoch 35/100\n",
      "1392/1392 - 1s - loss: 1.4867 - accuracy: 0.8132 - val_loss: 1.9491 - val_accuracy: 0.1548\n",
      "Epoch 36/100\n",
      "1392/1392 - 0s - loss: 1.4787 - accuracy: 0.8132 - val_loss: 1.9555 - val_accuracy: 0.1548\n",
      "Epoch 37/100\n",
      "1392/1392 - 0s - loss: 1.4706 - accuracy: 0.8132 - val_loss: 1.9614 - val_accuracy: 0.1548\n",
      "Epoch 38/100\n",
      "1392/1392 - 0s - loss: 1.4643 - accuracy: 0.8132 - val_loss: 1.9670 - val_accuracy: 0.1548\n",
      "Epoch 39/100\n",
      "1392/1392 - 0s - loss: 1.4542 - accuracy: 0.8132 - val_loss: 1.9728 - val_accuracy: 0.1548\n",
      "Epoch 40/100\n",
      "1392/1392 - 0s - loss: 1.4461 - accuracy: 0.8132 - val_loss: 1.9771 - val_accuracy: 0.1548\n",
      "Epoch 41/100\n",
      "1392/1392 - 0s - loss: 1.4378 - accuracy: 0.8132 - val_loss: 1.9822 - val_accuracy: 0.1548\n",
      "Epoch 42/100\n",
      "1392/1392 - 0s - loss: 1.4293 - accuracy: 0.8132 - val_loss: 1.9869 - val_accuracy: 0.1548\n",
      "Epoch 43/100\n",
      "1392/1392 - 0s - loss: 1.4206 - accuracy: 0.8132 - val_loss: 1.9902 - val_accuracy: 0.1548\n",
      "Epoch 44/100\n",
      "1392/1392 - 0s - loss: 1.4123 - accuracy: 0.8132 - val_loss: 1.9935 - val_accuracy: 0.1548\n",
      "Epoch 45/100\n",
      "1392/1392 - 0s - loss: 1.4030 - accuracy: 0.8132 - val_loss: 1.9978 - val_accuracy: 0.1548\n",
      "Epoch 46/100\n",
      "1392/1392 - 0s - loss: 1.3941 - accuracy: 0.8132 - val_loss: 2.0003 - val_accuracy: 0.1548\n",
      "Epoch 47/100\n",
      "1392/1392 - 0s - loss: 1.3864 - accuracy: 0.8132 - val_loss: 2.0046 - val_accuracy: 0.1548\n",
      "Epoch 48/100\n",
      "1392/1392 - 0s - loss: 1.3755 - accuracy: 0.8132 - val_loss: 2.0073 - val_accuracy: 0.1548\n",
      "Epoch 49/100\n",
      "1392/1392 - 0s - loss: 1.3665 - accuracy: 0.8132 - val_loss: 2.0084 - val_accuracy: 0.1548\n",
      "Epoch 50/100\n",
      "1392/1392 - 0s - loss: 1.3563 - accuracy: 0.8132 - val_loss: 2.0115 - val_accuracy: 0.1548\n",
      "Epoch 51/100\n",
      "1392/1392 - 0s - loss: 1.3465 - accuracy: 0.8132 - val_loss: 2.0139 - val_accuracy: 0.1548\n",
      "Epoch 52/100\n",
      "1392/1392 - 0s - loss: 1.3368 - accuracy: 0.8132 - val_loss: 2.0158 - val_accuracy: 0.1548\n",
      "Epoch 53/100\n",
      "1392/1392 - 0s - loss: 1.3261 - accuracy: 0.8132 - val_loss: 2.0142 - val_accuracy: 0.1548\n",
      "Epoch 54/100\n",
      "1392/1392 - 0s - loss: 1.3159 - accuracy: 0.8132 - val_loss: 2.0145 - val_accuracy: 0.1548\n",
      "Epoch 55/100\n",
      "1392/1392 - 0s - loss: 1.3051 - accuracy: 0.8132 - val_loss: 2.0142 - val_accuracy: 0.1548\n",
      "Epoch 56/100\n",
      "1392/1392 - 0s - loss: 1.2942 - accuracy: 0.8132 - val_loss: 2.0157 - val_accuracy: 0.1548\n",
      "Epoch 57/100\n",
      "1392/1392 - 0s - loss: 1.2834 - accuracy: 0.8132 - val_loss: 2.0160 - val_accuracy: 0.1548\n",
      "Epoch 58/100\n",
      "1392/1392 - 0s - loss: 1.2726 - accuracy: 0.8132 - val_loss: 2.0156 - val_accuracy: 0.1548\n",
      "Epoch 59/100\n",
      "1392/1392 - 0s - loss: 1.2606 - accuracy: 0.8132 - val_loss: 2.0140 - val_accuracy: 0.1548\n",
      "Epoch 60/100\n",
      "1392/1392 - 0s - loss: 1.2489 - accuracy: 0.8132 - val_loss: 2.0144 - val_accuracy: 0.1548\n",
      "Epoch 61/100\n",
      "1392/1392 - 0s - loss: 1.2391 - accuracy: 0.8132 - val_loss: 2.0124 - val_accuracy: 0.1548\n",
      "Epoch 62/100\n",
      "1392/1392 - 0s - loss: 1.2247 - accuracy: 0.8132 - val_loss: 2.0094 - val_accuracy: 0.1548\n",
      "Epoch 63/100\n",
      "1392/1392 - 0s - loss: 1.2121 - accuracy: 0.8132 - val_loss: 2.0062 - val_accuracy: 0.1548\n",
      "Epoch 64/100\n",
      "1392/1392 - 0s - loss: 1.1996 - accuracy: 0.8132 - val_loss: 2.0049 - val_accuracy: 0.1548\n",
      "Epoch 65/100\n",
      "1392/1392 - 0s - loss: 1.1865 - accuracy: 0.8132 - val_loss: 2.0009 - val_accuracy: 0.1548\n",
      "Epoch 66/100\n",
      "1392/1392 - 0s - loss: 1.1732 - accuracy: 0.8132 - val_loss: 1.9986 - val_accuracy: 0.1548\n",
      "Epoch 67/100\n",
      "1392/1392 - 0s - loss: 1.1596 - accuracy: 0.8132 - val_loss: 1.9954 - val_accuracy: 0.1548\n",
      "Epoch 68/100\n",
      "1392/1392 - 0s - loss: 1.1458 - accuracy: 0.8132 - val_loss: 1.9920 - val_accuracy: 0.1548\n",
      "Epoch 69/100\n",
      "1392/1392 - 0s - loss: 1.1326 - accuracy: 0.8132 - val_loss: 1.9899 - val_accuracy: 0.1548\n",
      "Epoch 70/100\n",
      "1392/1392 - 0s - loss: 1.1180 - accuracy: 0.8132 - val_loss: 1.9839 - val_accuracy: 0.1548\n",
      "Epoch 71/100\n",
      "1392/1392 - 0s - loss: 1.1031 - accuracy: 0.8132 - val_loss: 1.9812 - val_accuracy: 0.1548\n",
      "Epoch 72/100\n",
      "1392/1392 - 0s - loss: 1.0884 - accuracy: 0.8132 - val_loss: 1.9759 - val_accuracy: 0.1548\n",
      "Epoch 73/100\n",
      "1392/1392 - 0s - loss: 1.0733 - accuracy: 0.8132 - val_loss: 1.9720 - val_accuracy: 0.1548\n",
      "Epoch 74/100\n",
      "1392/1392 - 0s - loss: 1.0578 - accuracy: 0.8132 - val_loss: 1.9685 - val_accuracy: 0.1548\n",
      "Epoch 75/100\n",
      "1392/1392 - 0s - loss: 1.0423 - accuracy: 0.8132 - val_loss: 1.9622 - val_accuracy: 0.1548\n",
      "Epoch 76/100\n",
      "1392/1392 - 0s - loss: 1.0260 - accuracy: 0.8132 - val_loss: 1.9602 - val_accuracy: 0.1548\n",
      "Epoch 77/100\n",
      "1392/1392 - 0s - loss: 1.0103 - accuracy: 0.8132 - val_loss: 1.9520 - val_accuracy: 0.1548\n",
      "Epoch 78/100\n",
      "1392/1392 - 0s - loss: 0.9932 - accuracy: 0.8132 - val_loss: 1.9467 - val_accuracy: 0.1548\n"
     ]
    },
    {
     "name": "stdout",
     "output_type": "stream",
     "text": [
      "Epoch 79/100\n",
      "1392/1392 - 1s - loss: 0.9762 - accuracy: 0.8132 - val_loss: 1.9415 - val_accuracy: 0.1548\n",
      "Epoch 80/100\n",
      "1392/1392 - 0s - loss: 0.9646 - accuracy: 0.8132 - val_loss: 1.9368 - val_accuracy: 0.1548\n",
      "Epoch 81/100\n",
      "1392/1392 - 0s - loss: 0.9412 - accuracy: 0.8132 - val_loss: 1.9311 - val_accuracy: 0.1548\n",
      "Epoch 82/100\n",
      "1392/1392 - 0s - loss: 0.9232 - accuracy: 0.8132 - val_loss: 1.9249 - val_accuracy: 0.1548\n",
      "Epoch 83/100\n",
      "1392/1392 - 0s - loss: 0.9049 - accuracy: 0.8132 - val_loss: 1.9200 - val_accuracy: 0.1548\n",
      "Epoch 84/100\n",
      "1392/1392 - 0s - loss: 0.8871 - accuracy: 0.8132 - val_loss: 1.9116 - val_accuracy: 0.1548\n",
      "Epoch 85/100\n",
      "1392/1392 - 0s - loss: 0.8668 - accuracy: 0.8132 - val_loss: 1.9054 - val_accuracy: 0.1548\n",
      "Epoch 86/100\n",
      "1392/1392 - 0s - loss: 0.8476 - accuracy: 0.8132 - val_loss: 1.8979 - val_accuracy: 0.1548\n",
      "Epoch 87/100\n",
      "1392/1392 - 0s - loss: 0.8273 - accuracy: 0.8132 - val_loss: 1.8930 - val_accuracy: 0.1548\n",
      "Epoch 88/100\n",
      "1392/1392 - 0s - loss: 0.8072 - accuracy: 0.8132 - val_loss: 1.8849 - val_accuracy: 0.1548\n",
      "Epoch 89/100\n",
      "1392/1392 - 0s - loss: 0.7874 - accuracy: 0.8132 - val_loss: 1.8786 - val_accuracy: 0.1548\n",
      "Epoch 90/100\n",
      "1392/1392 - 0s - loss: 0.7650 - accuracy: 0.8132 - val_loss: 1.8728 - val_accuracy: 0.1548\n",
      "Epoch 91/100\n",
      "1392/1392 - 0s - loss: 0.7456 - accuracy: 0.8132 - val_loss: 1.8644 - val_accuracy: 0.1548\n",
      "Epoch 92/100\n",
      "1392/1392 - 0s - loss: 0.7219 - accuracy: 0.8132 - val_loss: 1.8570 - val_accuracy: 0.1548\n",
      "Epoch 93/100\n",
      "1392/1392 - 0s - loss: 0.6993 - accuracy: 0.8132 - val_loss: 1.8525 - val_accuracy: 0.1548\n",
      "Epoch 94/100\n",
      "1392/1392 - 0s - loss: 0.6766 - accuracy: 0.8132 - val_loss: 1.8423 - val_accuracy: 0.1548\n",
      "Epoch 95/100\n",
      "1392/1392 - 0s - loss: 0.6574 - accuracy: 0.8132 - val_loss: 1.8346 - val_accuracy: 0.1548\n",
      "Epoch 96/100\n",
      "1392/1392 - 0s - loss: 0.6357 - accuracy: 0.8139 - val_loss: 1.8275 - val_accuracy: 0.1548\n",
      "Epoch 97/100\n",
      "1392/1392 - 0s - loss: 0.6335 - accuracy: 0.8139 - val_loss: 1.8188 - val_accuracy: 0.1548\n",
      "Epoch 98/100\n",
      "1392/1392 - 0s - loss: 0.6310 - accuracy: 0.8139 - val_loss: 1.8124 - val_accuracy: 0.1548\n",
      "Epoch 99/100\n",
      "1392/1392 - 0s - loss: 0.6287 - accuracy: 0.8139 - val_loss: 1.8031 - val_accuracy: 0.1548\n",
      "Epoch 100/100\n",
      "1392/1392 - 0s - loss: 0.6262 - accuracy: 0.8139 - val_loss: 1.7948 - val_accuracy: 0.1548\n"
     ]
    },
    {
     "data": {
      "text/plain": [
       "<tensorflow.python.keras.callbacks.History at 0x7fa45510eb70>"
      ]
     },
     "execution_count": 56,
     "metadata": {},
     "output_type": "execute_result"
    }
   ],
   "source": [
    "model.fit(\n",
    "    training_set, \n",
    "    target_set, \n",
    "    initial_epoch=0,\n",
    "    # initial_epoch=init_epoch-epoch_count,\n",
    "    epochs=100,\n",
    "    validation_split=0.1, \n",
    "    # batch_size=20, \n",
    "    verbose=2, \n",
    "    shuffle=True,\n",
    "    callbacks=callbacks, \n",
    ")"
   ]
  },
  {
   "cell_type": "raw",
   "metadata": {},
   "source": [
    "Get Weights"
   ]
  },
  {
   "cell_type": "code",
   "execution_count": null,
   "metadata": {},
   "outputs": [],
   "source": [
    "model.layers[0].get_weights()"
   ]
  },
  {
   "cell_type": "raw",
   "metadata": {},
   "source": [
    "Get output of model"
   ]
  },
  {
   "cell_type": "raw",
   "metadata": {},
   "source": [
    "Save Machine Learning Model"
   ]
  },
  {
   "cell_type": "code",
   "execution_count": 44,
   "metadata": {},
   "outputs": [],
   "source": [
    "model.save('best_model_' + modelStartedTime + '.h5')"
   ]
  },
  {
   "cell_type": "raw",
   "metadata": {},
   "source": [
    "Tensorboard"
   ]
  },
  {
   "cell_type": "code",
   "execution_count": 11,
   "metadata": {},
   "outputs": [],
   "source": [
    "%load_ext tensorboard"
   ]
  },
  {
   "cell_type": "code",
   "execution_count": 279,
   "metadata": {},
   "outputs": [
    {
     "data": {
      "text/plain": [
       "Reusing TensorBoard on port 8088 (pid 9944), started 5:35:35 ago. (Use '!kill 9944' to kill it.)"
      ]
     },
     "metadata": {},
     "output_type": "display_data"
    },
    {
     "data": {
      "text/html": [
       "\n",
       "      <iframe id=\"tensorboard-frame-daceb70c0b611503\" width=\"100%\" height=\"800\" frameborder=\"0\">\n",
       "      </iframe>\n",
       "      <script>\n",
       "        (function() {\n",
       "          const frame = document.getElementById(\"tensorboard-frame-daceb70c0b611503\");\n",
       "          const url = new URL(\"/\", window.location);\n",
       "          url.port = 8088;\n",
       "          frame.src = url;\n",
       "        })();\n",
       "      </script>\n",
       "  "
      ],
      "text/plain": [
       "<IPython.core.display.HTML object>"
      ]
     },
     "metadata": {},
     "output_type": "display_data"
    }
   ],
   "source": [
    "%tensorboard --logdir logs --port=8088"
   ]
  },
  {
   "cell_type": "code",
   "execution_count": null,
   "metadata": {},
   "outputs": [],
   "source": []
  }
 ],
 "metadata": {
  "kernelspec": {
   "display_name": "Python 3",
   "language": "python",
   "name": "python3"
  },
  "language_info": {
   "codemirror_mode": {
    "name": "ipython",
    "version": 3
   },
   "file_extension": ".py",
   "mimetype": "text/x-python",
   "name": "python",
   "nbconvert_exporter": "python",
   "pygments_lexer": "ipython3",
   "version": "3.6.8"
  }
 },
 "nbformat": 4,
 "nbformat_minor": 2
}
